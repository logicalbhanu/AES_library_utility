{
 "cells": [
  {
   "cell_type": "code",
   "execution_count": 3,
   "metadata": {},
   "outputs": [
    {
     "data": {
      "text/plain": [
       "28"
      ]
     },
     "execution_count": 3,
     "metadata": {},
     "output_type": "execute_result"
    }
   ],
   "source": [
    "import sys\n",
    "sys.getsizeof(6) "
   ]
  },
  {
   "cell_type": "markdown",
   "metadata": {},
   "source": [
    "### below are some of the works to use numpy for representing the file into single byte of arrays for project AES encryption using python"
   ]
  },
  {
   "cell_type": "code",
   "execution_count": 4,
   "metadata": {},
   "outputs": [
    {
     "data": {
      "text/plain": [
       "array([b'\\x74', b'\\x68', b'\\x69', b'\\x73', b'\\x20', b'\\x69', b'\\x73',\n",
       "       b'\\x20', b'\\x61', b'\\x20', b'\\x74', b'\\x65', b'\\x78', b'\\x74',\n",
       "       b'\\x20', b'\\x66', b'\\x69', b'\\x6C', b'\\x65', b'\\x24', b'\\x0A'],\n",
       "      dtype='|V1')"
      ]
     },
     "execution_count": 4,
     "metadata": {},
     "output_type": "execute_result"
    }
   ],
   "source": [
    "import numpy as np\n",
    "arr = np.fromfile('txtfile.txt', dtype='|V1') #this is a way to read a text or binary file in numpy and \n",
    "arr             # and seperate in terms of one byte each for a character using dtype field as '|V1' which\n",
    "                # is denoted as void datatype and interpreted as raw datatype"
   ]
  },
  {
   "cell_type": "code",
   "execution_count": 5,
   "metadata": {},
   "outputs": [
    {
     "name": "stdout",
     "output_type": "stream",
     "text": [
      "[b'\\x74' b'\\x68' b'\\x69' b'\\x73' b'\\x20' b'\\x69' b'\\x73' b'\\x20' b'\\x61'\n",
      " b'\\x20' b'\\x74' b'\\x65' b'\\x78' b'\\x74' b'\\x20' b'\\x66' b'\\x69' b'\\x6C'\n",
      " b'\\x65' b'\\x24' b'\\x0A']\n"
     ]
    }
   ],
   "source": [
    "print(arr)"
   ]
  },
  {
   "cell_type": "code",
   "execution_count": 10,
   "metadata": {},
   "outputs": [],
   "source": [
    "byte=arr[0]"
   ]
  },
  {
   "cell_type": "code",
   "execution_count": 22,
   "metadata": {},
   "outputs": [
    {
     "data": {
      "text/plain": [
       "numpy.void"
      ]
     },
     "execution_count": 22,
     "metadata": {},
     "output_type": "execute_result"
    }
   ],
   "source": [
    "type(byte)"
   ]
  },
  {
   "cell_type": "code",
   "execution_count": 38,
   "metadata": {},
   "outputs": [
    {
     "data": {
      "text/plain": [
       "21"
      ]
     },
     "execution_count": 38,
     "metadata": {},
     "output_type": "execute_result"
    }
   ],
   "source": [
    "h=bytearray(arr)\n",
    "len(h)"
   ]
  },
  {
   "cell_type": "code",
   "execution_count": 40,
   "metadata": {},
   "outputs": [
    {
     "name": "stdout",
     "output_type": "stream",
     "text": [
      "10\n"
     ]
    }
   ],
   "source": [
    "print(h[20])"
   ]
  },
  {
   "cell_type": "code",
   "execution_count": 28,
   "metadata": {},
   "outputs": [
    {
     "data": {
      "text/plain": [
       "')'"
      ]
     },
     "execution_count": 28,
     "metadata": {},
     "output_type": "execute_result"
    }
   ],
   "source": [
    "chr(41)"
   ]
  },
  {
   "cell_type": "code",
   "execution_count": 48,
   "metadata": {},
   "outputs": [
    {
     "data": {
      "text/plain": [
       "10"
      ]
     },
     "execution_count": 48,
     "metadata": {},
     "output_type": "execute_result"
    }
   ],
   "source": [
    "bytearray('\\n','utf-8')[0]"
   ]
  },
  {
   "cell_type": "code",
   "execution_count": 33,
   "metadata": {},
   "outputs": [
    {
     "data": {
      "text/plain": [
       "10"
      ]
     },
     "execution_count": 33,
     "metadata": {},
     "output_type": "execute_result"
    }
   ],
   "source": [
    "ord('\\n')"
   ]
  },
  {
   "cell_type": "code",
   "execution_count": 34,
   "metadata": {},
   "outputs": [
    {
     "data": {
      "text/plain": [
       "'\\n'"
      ]
     },
     "execution_count": 34,
     "metadata": {},
     "output_type": "execute_result"
    }
   ],
   "source": [
    "chr(10)"
   ]
  },
  {
   "cell_type": "code",
   "execution_count": 57,
   "metadata": {},
   "outputs": [
    {
     "name": "stdout",
     "output_type": "stream",
     "text": [
      "bytearray(b'Python is interesting.') \n",
      " )\n",
      "80    121\n",
      ")\n",
      ")\n"
     ]
    }
   ],
   "source": [
    "import sys,os\n",
    "os.system('clear')\n",
    "string = \"Python is interesting.\"\n",
    "\n",
    "# string with encoding 'utf-8'\n",
    "arr = bytearray(string, 'utf-8')\n",
    "print(arr,\"\\n\",\n",
    "      chr(arr[0]^arr[1]))  # this is used to calculate the \"bitwise or\" between the two integers as it only\n",
    "                           # calculated between integers in python\n",
    "print(arr[0],\"  \",arr[1])\n",
    "print(chr(80^121))      # output using the equivalent decimal numbers \n",
    "print(chr(arr[0]^arr[1])) # same output using the values stored into 'bytearray'"
   ]
  }
 ],
 "metadata": {
  "kernelspec": {
   "display_name": "Python 3",
   "language": "python",
   "name": "python3"
  },
  "language_info": {
   "codemirror_mode": {
    "name": "ipython",
    "version": 3
   },
   "file_extension": ".py",
   "mimetype": "text/x-python",
   "name": "python",
   "nbconvert_exporter": "python",
   "pygments_lexer": "ipython3",
   "version": "3.7.3"
  }
 },
 "nbformat": 4,
 "nbformat_minor": 2
}
