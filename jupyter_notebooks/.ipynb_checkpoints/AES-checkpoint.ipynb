{
 "cells": [
  {
   "cell_type": "code",
   "execution_count": 15,
   "metadata": {
    "Collapsed": "false"
   },
   "outputs": [
    {
     "data": {
      "text/plain": [
       "28"
      ]
     },
     "execution_count": 15,
     "metadata": {},
     "output_type": "execute_result"
    }
   ],
   "source": [
    "import sys\n",
    "sys.getsizeof(6) "
   ]
  },
  {
   "cell_type": "markdown",
   "metadata": {
    "Collapsed": "true"
   },
   "source": [
    "### below are some of the works to use numpy for representing the file into single byte of arrays for project AES encryption using python"
   ]
  },
  {
   "cell_type": "code",
   "execution_count": 54,
   "metadata": {
    "Collapsed": "false"
   },
   "outputs": [],
   "source": [
    "arr=None"
   ]
  },
  {
   "cell_type": "code",
   "execution_count": 55,
   "metadata": {
    "Collapsed": "false"
   },
   "outputs": [
    {
     "name": "stdout",
     "output_type": "stream",
     "text": [
      "Exception reporting mode: Verbose\n"
     ]
    }
   ],
   "source": [
    "%xmode Verbose"
   ]
  },
  {
   "cell_type": "code",
   "execution_count": 56,
   "metadata": {
    "Collapsed": "false"
   },
   "outputs": [
    {
     "name": "stdout",
     "output_type": "stream",
     "text": [
      "180\n"
     ]
    },
    {
     "data": {
      "text/plain": [
       "array([ 84, 104, 105, 115,  32, 105, 115,  32, 116, 104, 101,  32, 116,\n",
       "       101, 120, 116,  32, 102, 105, 108, 101,  32, 116, 104,  97, 116,\n",
       "        32, 105,  32, 104,  97, 115,  32,  99, 114, 101,  97, 116, 101,\n",
       "       100,  32, 102, 111, 114,  32, 116, 101, 115, 116, 105, 110, 103,\n",
       "        32, 116, 104, 101,  32,  99, 111, 110,  99, 101, 112, 116,  32,\n",
       "       111, 102,  32, 110, 117, 109, 112, 121,  32, 115, 112, 108, 105,\n",
       "       116, 116, 105, 110, 103,  32,  97, 110, 100,  32, 116, 111,  32,\n",
       "       109,  97, 107, 101,  32,  10, 112, 114, 111,  99, 101, 115, 115,\n",
       "        32, 111, 102,  32,  99, 114, 101,  97, 116, 105, 110, 103,  32,\n",
       "       116, 104, 101,  32, 115, 116,  97, 116, 101,  32,  97, 114, 114,\n",
       "        97, 121,  32, 101,  97, 115, 121,  32, 105, 110,  32,  65, 101,\n",
       "       115,  32, 105, 109, 112, 108, 101, 109, 101, 110, 116,  97, 116,\n",
       "       105, 111, 110,  32, 112, 114, 111, 106, 101,  99, 116,  32, 119,\n",
       "       105, 116, 104,  32, 112, 121, 116, 104, 111, 110,  10], dtype=int8)"
      ]
     },
     "execution_count": 56,
     "metadata": {},
     "output_type": "execute_result"
    }
   ],
   "source": [
    "import pdb\n",
    "import numpy as np\n",
    "arr = np.fromfile('txtfile.txt', dtype='b') #this is a way to read a text or binary file in numpy and \n",
    "print(len(arr))\n",
    "arr             # and seperate in terms of one byte each for a character using dtype field as '|V1' or \n",
    "                # 'b'(for byte,don't know  more about it) which\n",
    "                # is denoted as void datatype and interpreted as raw datatype"
   ]
  },
  {
   "cell_type": "code",
   "execution_count": 57,
   "metadata": {
    "Collapsed": "false"
   },
   "outputs": [
    {
     "data": {
      "text/plain": [
       "[84,\n",
       " 104,\n",
       " 105,\n",
       " 115,\n",
       " 32,\n",
       " 105,\n",
       " 115,\n",
       " 32,\n",
       " 116,\n",
       " 104,\n",
       " 101,\n",
       " 32,\n",
       " 116,\n",
       " 101,\n",
       " 120,\n",
       " 116,\n",
       " 32,\n",
       " 102,\n",
       " 105,\n",
       " 108,\n",
       " 101,\n",
       " 32,\n",
       " 116,\n",
       " 104,\n",
       " 97,\n",
       " 116,\n",
       " 32,\n",
       " 105,\n",
       " 32,\n",
       " 104,\n",
       " 97,\n",
       " 115,\n",
       " 32,\n",
       " 99,\n",
       " 114,\n",
       " 101,\n",
       " 97,\n",
       " 116,\n",
       " 101,\n",
       " 100,\n",
       " 32,\n",
       " 102,\n",
       " 111,\n",
       " 114,\n",
       " 32,\n",
       " 116,\n",
       " 101,\n",
       " 115,\n",
       " 116,\n",
       " 105,\n",
       " 110,\n",
       " 103,\n",
       " 32,\n",
       " 116,\n",
       " 104,\n",
       " 101,\n",
       " 32,\n",
       " 99,\n",
       " 111,\n",
       " 110,\n",
       " 99,\n",
       " 101,\n",
       " 112,\n",
       " 116,\n",
       " 32,\n",
       " 111,\n",
       " 102,\n",
       " 32,\n",
       " 110,\n",
       " 117,\n",
       " 109,\n",
       " 112,\n",
       " 121,\n",
       " 32,\n",
       " 115,\n",
       " 112,\n",
       " 108,\n",
       " 105,\n",
       " 116,\n",
       " 116,\n",
       " 105,\n",
       " 110,\n",
       " 103,\n",
       " 32,\n",
       " 97,\n",
       " 110,\n",
       " 100,\n",
       " 32,\n",
       " 116,\n",
       " 111,\n",
       " 32,\n",
       " 109,\n",
       " 97,\n",
       " 107,\n",
       " 101,\n",
       " 32,\n",
       " 10,\n",
       " 112,\n",
       " 114,\n",
       " 111,\n",
       " 99,\n",
       " 101,\n",
       " 115,\n",
       " 115,\n",
       " 32,\n",
       " 111,\n",
       " 102,\n",
       " 32,\n",
       " 99,\n",
       " 114,\n",
       " 101,\n",
       " 97,\n",
       " 116,\n",
       " 105,\n",
       " 110,\n",
       " 103,\n",
       " 32,\n",
       " 116,\n",
       " 104,\n",
       " 101,\n",
       " 32,\n",
       " 115,\n",
       " 116,\n",
       " 97,\n",
       " 116,\n",
       " 101,\n",
       " 32,\n",
       " 97,\n",
       " 114,\n",
       " 114,\n",
       " 97,\n",
       " 121,\n",
       " 32,\n",
       " 101,\n",
       " 97,\n",
       " 115,\n",
       " 121,\n",
       " 32,\n",
       " 105,\n",
       " 110,\n",
       " 32,\n",
       " 65,\n",
       " 101,\n",
       " 115,\n",
       " 32,\n",
       " 105,\n",
       " 109,\n",
       " 112,\n",
       " 108,\n",
       " 101,\n",
       " 109,\n",
       " 101,\n",
       " 110,\n",
       " 116,\n",
       " 97,\n",
       " 116,\n",
       " 105,\n",
       " 111,\n",
       " 110,\n",
       " 32,\n",
       " 112,\n",
       " 114,\n",
       " 111,\n",
       " 106,\n",
       " 101,\n",
       " 99,\n",
       " 116,\n",
       " 32,\n",
       " 119,\n",
       " 105,\n",
       " 116,\n",
       " 104,\n",
       " 32,\n",
       " 112,\n",
       " 121,\n",
       " 116,\n",
       " 104,\n",
       " 111,\n",
       " 110,\n",
       " 10]"
      ]
     },
     "execution_count": 57,
     "metadata": {},
     "output_type": "execute_result"
    }
   ],
   "source": [
    "list(bytes(arr)) # this means putting the bytes datatype into list would give the actula indexing of their utf values."
   ]
  },
  {
   "cell_type": "code",
   "execution_count": 58,
   "metadata": {
    "Collapsed": "false"
   },
   "outputs": [
    {
     "data": {
      "text/plain": [
       "'This is the text file that i has created for testing the concept of numpy splitting and to make \\nprocess of creating the state array easy in Aes implementation project with python\\n'"
      ]
     },
     "execution_count": 58,
     "metadata": {},
     "output_type": "execute_result"
    }
   ],
   "source": [
    "bytes(arr).decode()"
   ]
  },
  {
   "cell_type": "code",
   "execution_count": 60,
   "metadata": {
    "Collapsed": "false"
   },
   "outputs": [
    {
     "data": {
      "text/plain": [
       "84"
      ]
     },
     "execution_count": 60,
     "metadata": {},
     "output_type": "execute_result"
    }
   ],
   "source": [
    "np.array(list(bytes(arr)))[0]"
   ]
  },
  {
   "cell_type": "code",
   "execution_count": 61,
   "metadata": {
    "Collapsed": "false"
   },
   "outputs": [
    {
     "name": "stdout",
     "output_type": "stream",
     "text": [
      "[b'\\x54' b'\\x68' b'\\x69' b'\\x73' b'\\x20' b'\\x69' b'\\x73' b'\\x20' b'\\x74'\n",
      " b'\\x68' b'\\x65' b'\\x20' b'\\x74' b'\\x65' b'\\x78' b'\\x74' b'\\x20' b'\\x66'\n",
      " b'\\x69' b'\\x6C' b'\\x65' b'\\x20' b'\\x74' b'\\x68' b'\\x61' b'\\x74' b'\\x20'\n",
      " b'\\x69' b'\\x20' b'\\x68' b'\\x61' b'\\x73' b'\\x20' b'\\x63' b'\\x72' b'\\x65'\n",
      " b'\\x61' b'\\x74' b'\\x65' b'\\x64' b'\\x20' b'\\x66' b'\\x6F' b'\\x72' b'\\x20'\n",
      " b'\\x74' b'\\x65' b'\\x73' b'\\x74' b'\\x69' b'\\x6E' b'\\x67' b'\\x20' b'\\x74'\n",
      " b'\\x68' b'\\x65' b'\\x20' b'\\x63' b'\\x6F' b'\\x6E' b'\\x63' b'\\x65' b'\\x70'\n",
      " b'\\x74' b'\\x20' b'\\x6F' b'\\x66' b'\\x20' b'\\x6E' b'\\x75' b'\\x6D' b'\\x70'\n",
      " b'\\x79' b'\\x20' b'\\x73' b'\\x70' b'\\x6C' b'\\x69' b'\\x74' b'\\x74' b'\\x69'\n",
      " b'\\x6E' b'\\x67' b'\\x20' b'\\x61' b'\\x6E' b'\\x64' b'\\x20' b'\\x74' b'\\x6F'\n",
      " b'\\x20' b'\\x6D' b'\\x61' b'\\x6B' b'\\x65' b'\\x20' b'\\x0A' b'\\x70' b'\\x72'\n",
      " b'\\x6F' b'\\x63' b'\\x65' b'\\x73' b'\\x73' b'\\x20' b'\\x6F' b'\\x66' b'\\x20'\n",
      " b'\\x63' b'\\x72' b'\\x65' b'\\x61' b'\\x74' b'\\x69' b'\\x6E' b'\\x67' b'\\x20'\n",
      " b'\\x74' b'\\x68' b'\\x65' b'\\x20' b'\\x73' b'\\x74' b'\\x61' b'\\x74' b'\\x65'\n",
      " b'\\x20' b'\\x61' b'\\x72' b'\\x72' b'\\x61' b'\\x79' b'\\x20' b'\\x65' b'\\x61'\n",
      " b'\\x73' b'\\x79' b'\\x20' b'\\x69' b'\\x6E' b'\\x20' b'\\x41' b'\\x65' b'\\x73'\n",
      " b'\\x20' b'\\x69' b'\\x6D' b'\\x70' b'\\x6C' b'\\x65' b'\\x6D' b'\\x65' b'\\x6E'\n",
      " b'\\x74' b'\\x61' b'\\x74' b'\\x69' b'\\x6F' b'\\x6E' b'\\x20' b'\\x70' b'\\x72'\n",
      " b'\\x6F' b'\\x6A' b'\\x65' b'\\x63' b'\\x74' b'\\x20' b'\\x77' b'\\x69' b'\\x74'\n",
      " b'\\x68' b'\\x20' b'\\x70' b'\\x79' b'\\x74' b'\\x68' b'\\x6F' b'\\x6E' b'\\x0A']\n"
     ]
    }
   ],
   "source": [
    "print(arr.astype('|V1'))"
   ]
  },
  {
   "cell_type": "code",
   "execution_count": 83,
   "metadata": {
    "Collapsed": "false"
   },
   "outputs": [
    {
     "data": {
      "text/plain": [
       "84"
      ]
     },
     "execution_count": 83,
     "metadata": {},
     "output_type": "execute_result"
    }
   ],
   "source": [
    "byte=arr[0]\n",
    "byte"
   ]
  },
  {
   "cell_type": "code",
   "execution_count": 63,
   "metadata": {
    "Collapsed": "false"
   },
   "outputs": [
    {
     "data": {
      "text/plain": [
       "'T'"
      ]
     },
     "execution_count": 63,
     "metadata": {},
     "output_type": "execute_result"
    }
   ],
   "source": [
    "b'\\x54'.decode()"
   ]
  },
  {
   "cell_type": "code",
   "execution_count": 64,
   "metadata": {
    "Collapsed": "false"
   },
   "outputs": [
    {
     "data": {
      "text/plain": [
       "84"
      ]
     },
     "execution_count": 64,
     "metadata": {},
     "output_type": "execute_result"
    }
   ],
   "source": [
    "ord('T')"
   ]
  },
  {
   "cell_type": "code",
   "execution_count": 65,
   "metadata": {
    "Collapsed": "false"
   },
   "outputs": [
    {
     "data": {
      "text/plain": [
       "60"
      ]
     },
     "execution_count": 65,
     "metadata": {},
     "output_type": "execute_result"
    }
   ],
   "source": [
    "arr[0]^arr[1]"
   ]
  },
  {
   "cell_type": "code",
   "execution_count": 66,
   "metadata": {
    "Collapsed": "false"
   },
   "outputs": [
    {
     "ename": "TypeError",
     "evalue": "unsupported operand type(s) for ^: 'str' and 'str'",
     "output_type": "error",
     "traceback": [
      "\u001b[0;31m---------------------------------------------------------------------------\u001b[0m",
      "\u001b[0;31mTypeError\u001b[0m                                 Traceback (most recent call last)",
      "\u001b[0;32m<ipython-input-66-e55d36ee5f91>\u001b[0m in \u001b[0;36m<module>\u001b[0;34m\u001b[0m\n\u001b[0;32m----> 1\u001b[0;31m \u001b[0;34m'a'\u001b[0m\u001b[0;34m^\u001b[0m\u001b[0;34m'b'\u001b[0m\u001b[0;34m\u001b[0m\u001b[0;34m\u001b[0m\u001b[0m\n\u001b[0m\u001b[1;32m      2\u001b[0m \u001b[0;31m# this shows that to support bitwise xor we have to have these numbers in decimal or in binary\u001b[0m\u001b[0;34m\u001b[0m\u001b[0;34m\u001b[0m\u001b[0;34m\u001b[0m\u001b[0m\n",
      "\u001b[0;31mTypeError\u001b[0m: unsupported operand type(s) for ^: 'str' and 'str'"
     ]
    }
   ],
   "source": [
    "'a'^'b'\n",
    "# this shows that to support bitwise xor we have to have these numbers in decimal or in binary"
   ]
  },
  {
   "cell_type": "code",
   "execution_count": 67,
   "metadata": {
    "Collapsed": "false"
   },
   "outputs": [
    {
     "data": {
      "text/plain": [
       "numpy.int8"
      ]
     },
     "execution_count": 67,
     "metadata": {},
     "output_type": "execute_result"
    }
   ],
   "source": [
    "type(byte)"
   ]
  },
  {
   "cell_type": "code",
   "execution_count": 68,
   "metadata": {
    "Collapsed": "false"
   },
   "outputs": [],
   "source": [
    "# the above error shows that we can't apply the bit wise_xor at this level as it is not supported at this level"
   ]
  },
  {
   "cell_type": "code",
   "execution_count": 69,
   "metadata": {
    "Collapsed": "false"
   },
   "outputs": [
    {
     "data": {
      "text/plain": [
       "180"
      ]
     },
     "execution_count": 69,
     "metadata": {},
     "output_type": "execute_result"
    }
   ],
   "source": [
    "h=bytearray(arr)\n",
    "len(h)"
   ]
  },
  {
   "cell_type": "markdown",
   "metadata": {
    "Collapsed": "true"
   },
   "source": [
    "#### section anonymous"
   ]
  },
  {
   "cell_type": "code",
   "execution_count": 70,
   "metadata": {
    "Collapsed": "false"
   },
   "outputs": [
    {
     "name": "stdout",
     "output_type": "stream",
     "text": [
      "bytearray(b'This is the text file that i has created for testing the concept of numpy splitting and to make \\nprocess of creating the state array easy in Aes implementation project with python\\n')\n"
     ]
    }
   ],
   "source": [
    "hkp=bytearray(arr)# unable to infer the output of this concept\n",
    "print(hkp)"
   ]
  },
  {
   "cell_type": "code",
   "execution_count": 71,
   "metadata": {
    "Collapsed": "false"
   },
   "outputs": [
    {
     "name": "stdout",
     "output_type": "stream",
     "text": [
      "84  104  105  115  32  105  115  32  116  104  101  32  116  101  120  116  32  102  105  108  101  32  116  104  97  116  32  105  32  104  97  115  32  99  114  101  97  116  101  100  32  102  111  114  32  116  101  115  116  105  110  103  32  116  104  101  32  99  111  110  99  101  112  116  32  111  102  32  110  117  109  112  121  32  115  112  108  105  116  116  105  110  103  32  97  110  100  32  116  111  32  109  97  107  101  32  10  112  114  111  99  101  115  115  32  111  102  32  99  114  101  97  116  105  110  103  32  116  104  101  32  115  116  97  116  101  32  97  114  114  97  121  32  101  97  115  121  32  105  110  32  65  101  115  32  105  109  112  108  101  109  101  110  116  97  116  105  111  110  32  112  114  111  106  101  99  116  32  119  105  116  104  32  112  121  116  104  111  110  10  "
     ]
    }
   ],
   "source": [
    "for i in hkp:\n",
    "    print(i,end=\"  \")"
   ]
  },
  {
   "cell_type": "markdown",
   "metadata": {
    "Collapsed": "true"
   },
   "source": [
    "#### section anonymous ends here"
   ]
  },
  {
   "cell_type": "code",
   "execution_count": 72,
   "metadata": {
    "Collapsed": "false"
   },
   "outputs": [
    {
     "data": {
      "text/plain": [
       "101"
      ]
     },
     "execution_count": 72,
     "metadata": {},
     "output_type": "execute_result"
    }
   ],
   "source": [
    "h[20]"
   ]
  },
  {
   "cell_type": "code",
   "execution_count": 73,
   "metadata": {
    "Collapsed": "false"
   },
   "outputs": [
    {
     "data": {
      "text/plain": [
       "'e'"
      ]
     },
     "execution_count": 73,
     "metadata": {},
     "output_type": "execute_result"
    }
   ],
   "source": [
    "chr(101)"
   ]
  },
  {
   "cell_type": "code",
   "execution_count": 74,
   "metadata": {
    "Collapsed": "false"
   },
   "outputs": [
    {
     "ename": "AttributeError",
     "evalue": "'numpy.int8' object has no attribute 'encode'",
     "output_type": "error",
     "traceback": [
      "\u001b[0;31m---------------------------------------------------------------------------\u001b[0m",
      "\u001b[0;31mAttributeError\u001b[0m                            Traceback (most recent call last)",
      "\u001b[0;32m<ipython-input-74-d9680f2c968f>\u001b[0m in \u001b[0;36m<module>\u001b[0;34m\u001b[0m\n\u001b[0;32m----> 1\u001b[0;31m \u001b[0mh\u001b[0m\u001b[0;34m=\u001b[0m\u001b[0;34m(\u001b[0m\u001b[0marr\u001b[0m\u001b[0;34m[\u001b[0m\u001b[0;36m0\u001b[0m\u001b[0;34m]\u001b[0m\u001b[0;34m.\u001b[0m\u001b[0mencode\u001b[0m\u001b[0;34m(\u001b[0m\u001b[0;34m'utf-8'\u001b[0m\u001b[0;34m)\u001b[0m\u001b[0;34m)\u001b[0m\u001b[0;34m\u001b[0m\u001b[0;34m\u001b[0m\u001b[0m\n\u001b[0m        \u001b[0;36mglobal\u001b[0m \u001b[0;36mh\u001b[0m \u001b[0;34m= bytearray(b'This is the text file that i has created for testing the concept of numpy splitting and to make \\nprocess of creating the state array easy in Aes implementation project with python\\n')\u001b[0m\u001b[0;34m\n        \u001b[0m\u001b[0;36mglobal\u001b[0m \u001b[0;36marr.encode\u001b[0m \u001b[0;34m= \u001b[0;36mundefined\u001b[0m\u001b[0m\n\u001b[1;32m      2\u001b[0m \u001b[0mh\u001b[0m\u001b[0;34m.\u001b[0m\u001b[0mdecode\u001b[0m\u001b[0;34m(\u001b[0m\u001b[0;34m'utf-8'\u001b[0m\u001b[0;34m)\u001b[0m\u001b[0;34m\u001b[0m\u001b[0;34m\u001b[0m\u001b[0m\n\u001b[1;32m      3\u001b[0m \u001b[0;34m\u001b[0m\u001b[0m\n\u001b[1;32m      4\u001b[0m \u001b[0;31m# to debug this error see the below cells\u001b[0m\u001b[0;34m\u001b[0m\u001b[0;34m\u001b[0m\u001b[0;34m\u001b[0m\u001b[0m\n",
      "\u001b[0;31mAttributeError\u001b[0m: 'numpy.int8' object has no attribute 'encode'"
     ]
    }
   ],
   "source": [
    "h=(arr[0].encode('utf-8'))  \n",
    "h.decode('utf-8')\n",
    "\n",
    "# to debug this error see the below cells"
   ]
  },
  {
   "cell_type": "code",
   "execution_count": 75,
   "metadata": {
    "Collapsed": "false"
   },
   "outputs": [
    {
     "data": {
      "text/plain": [
       "b'bh'"
      ]
     },
     "execution_count": 75,
     "metadata": {},
     "output_type": "execute_result"
    }
   ],
   "source": [
    "'bh'.encode() # this shows that encode is the attribute of the object \"string\" "
   ]
  },
  {
   "cell_type": "code",
   "execution_count": 76,
   "metadata": {
    "Collapsed": "false"
   },
   "outputs": [
    {
     "data": {
      "text/plain": [
       "bytes"
      ]
     },
     "execution_count": 76,
     "metadata": {},
     "output_type": "execute_result"
    }
   ],
   "source": [
    "type('bh'.encode())"
   ]
  },
  {
   "cell_type": "code",
   "execution_count": 77,
   "metadata": {
    "Collapsed": "false"
   },
   "outputs": [
    {
     "data": {
      "text/plain": [
       "b'bh'"
      ]
     },
     "execution_count": 77,
     "metadata": {},
     "output_type": "execute_result"
    }
   ],
   "source": [
    "'bh'.encode()"
   ]
  },
  {
   "cell_type": "code",
   "execution_count": 78,
   "metadata": {
    "Collapsed": "false"
   },
   "outputs": [
    {
     "data": {
      "text/plain": [
       "b'1'"
      ]
     },
     "execution_count": 78,
     "metadata": {},
     "output_type": "execute_result"
    }
   ],
   "source": [
    "'1'.encode()"
   ]
  },
  {
   "cell_type": "code",
   "execution_count": 79,
   "metadata": {
    "Collapsed": "false"
   },
   "outputs": [
    {
     "data": {
      "text/plain": [
       "'bh'"
      ]
     },
     "execution_count": 79,
     "metadata": {},
     "output_type": "execute_result"
    }
   ],
   "source": [
    "'bh'.encode().decode() # this shows that decode is the attribute of the object \"bytes\""
   ]
  },
  {
   "cell_type": "code",
   "execution_count": 80,
   "metadata": {
    "Collapsed": "false"
   },
   "outputs": [
    {
     "data": {
      "text/plain": [
       "str"
      ]
     },
     "execution_count": 80,
     "metadata": {},
     "output_type": "execute_result"
    }
   ],
   "source": [
    "type('bh'.encode().decode())"
   ]
  },
  {
   "cell_type": "code",
   "execution_count": 81,
   "metadata": {
    "Collapsed": "false"
   },
   "outputs": [
    {
     "data": {
      "text/plain": [
       "b'\\x00\\x00\\x00\\x00\\x00\\x00\\x00\\x00\\x00\\x00\\x00\\x00\\x00\\x00\\x00\\x00\\x00\\x00\\x00\\x00\\x00\\x00\\x00\\x00\\x00\\x00\\x00\\x00\\x00\\x00\\x00\\x00\\x00\\x00\\x00\\x00\\x00\\x00\\x00\\x00\\x00\\x00\\x00\\x00\\x00\\x00\\x00\\x00\\x00\\x00\\x00\\x00\\x00\\x00\\x00\\x00\\x00\\x00\\x00\\x00\\x00\\x00\\x00\\x00\\x00\\x00\\x00\\x00\\x00\\x00\\x00\\x00\\x00\\x00\\x00\\x00\\x00\\x00\\x00\\x00\\x00\\x00\\x00\\x00'"
      ]
     },
     "execution_count": 81,
     "metadata": {},
     "output_type": "execute_result"
    }
   ],
   "source": [
    "bytes(arr[0]) # the output is called as byte string"
   ]
  },
  {
   "cell_type": "code",
   "execution_count": 84,
   "metadata": {
    "Collapsed": "false"
   },
   "outputs": [
    {
     "data": {
      "text/plain": [
       "0"
      ]
     },
     "execution_count": 84,
     "metadata": {},
     "output_type": "execute_result"
    }
   ],
   "source": [
    "bytes(arr[0])[0]"
   ]
  },
  {
   "cell_type": "code",
   "execution_count": 85,
   "metadata": {
    "Collapsed": "false"
   },
   "outputs": [
    {
     "data": {
      "text/plain": [
       "'\\x00\\x00\\x00\\x00\\x00\\x00\\x00\\x00\\x00\\x00\\x00\\x00\\x00\\x00\\x00\\x00\\x00\\x00\\x00\\x00\\x00\\x00\\x00\\x00\\x00\\x00\\x00\\x00\\x00\\x00\\x00\\x00\\x00\\x00\\x00\\x00\\x00\\x00\\x00\\x00\\x00\\x00\\x00\\x00\\x00\\x00\\x00\\x00\\x00\\x00\\x00\\x00\\x00\\x00\\x00\\x00\\x00\\x00\\x00\\x00\\x00\\x00\\x00\\x00\\x00\\x00\\x00\\x00\\x00\\x00\\x00\\x00\\x00\\x00\\x00\\x00\\x00\\x00\\x00\\x00\\x00\\x00\\x00\\x00'"
      ]
     },
     "execution_count": 85,
     "metadata": {},
     "output_type": "execute_result"
    }
   ],
   "source": [
    "# debugging the error (\"numpy.void object has no attribute 'encode' \") of the above cell\n",
    "h=bytes(arr[0])  \n",
    "h.decode('utf-8')"
   ]
  },
  {
   "cell_type": "raw",
   "metadata": {
    "Collapsed": "false"
   },
   "source": [
    "Note: from all of the above stuffs what we can deduce is that the function:\n",
    "\n",
    "bytearray() took a string and gives its output as the array of the ascii encodings (in decimal numbers) of each character of the string supplied. moreover we can also give the numpy.void type of data to the byte array as input and byte array is able to convert that data into corresponding decimal encoding of the its respective string value(indexing should be used here to address bytearray elements, see \"section anonymous\" in the above cells).\n"
   ]
  },
  {
   "cell_type": "code",
   "execution_count": 86,
   "metadata": {
    "Collapsed": "false"
   },
   "outputs": [
    {
     "data": {
      "text/plain": [
       "bytearray"
      ]
     },
     "execution_count": 86,
     "metadata": {},
     "output_type": "execute_result"
    }
   ],
   "source": [
    "type(bytearray())"
   ]
  },
  {
   "cell_type": "code",
   "execution_count": 87,
   "metadata": {
    "Collapsed": "false"
   },
   "outputs": [
    {
     "data": {
      "text/plain": [
       "')'"
      ]
     },
     "execution_count": 87,
     "metadata": {},
     "output_type": "execute_result"
    }
   ],
   "source": [
    "chr(41)"
   ]
  },
  {
   "cell_type": "code",
   "execution_count": 88,
   "metadata": {
    "Collapsed": "false"
   },
   "outputs": [
    {
     "data": {
      "text/plain": [
       "111"
      ]
     },
     "execution_count": 88,
     "metadata": {},
     "output_type": "execute_result"
    }
   ],
   "source": [
    "bytearray('\\x6F','utf-8')[0]"
   ]
  },
  {
   "cell_type": "code",
   "execution_count": 89,
   "metadata": {
    "Collapsed": "false"
   },
   "outputs": [
    {
     "data": {
      "text/plain": [
       "'o'"
      ]
     },
     "execution_count": 89,
     "metadata": {},
     "output_type": "execute_result"
    }
   ],
   "source": [
    "chr(bytearray('\\x6F','utf-8')[0])"
   ]
  },
  {
   "cell_type": "code",
   "execution_count": 90,
   "metadata": {
    "Collapsed": "false"
   },
   "outputs": [
    {
     "data": {
      "text/plain": [
       "10"
      ]
     },
     "execution_count": 90,
     "metadata": {},
     "output_type": "execute_result"
    }
   ],
   "source": [
    "ord('\\n')"
   ]
  },
  {
   "cell_type": "code",
   "execution_count": 91,
   "metadata": {
    "Collapsed": "false"
   },
   "outputs": [
    {
     "data": {
      "text/plain": [
       "'\\n'"
      ]
     },
     "execution_count": 91,
     "metadata": {},
     "output_type": "execute_result"
    }
   ],
   "source": [
    "chr(10)"
   ]
  },
  {
   "cell_type": "code",
   "execution_count": 92,
   "metadata": {
    "Collapsed": "false"
   },
   "outputs": [
    {
     "name": "stdout",
     "output_type": "stream",
     "text": [
      "bytearray(b'Python is interesting.') \n",
      " )\n",
      "80    121\n",
      ")\n",
      ")\n",
      "<class 'list'>\n"
     ]
    }
   ],
   "source": [
    "import sys,os\n",
    "os.system('clear')\n",
    "string = \"Python is interesting.\"\n",
    "\n",
    "# string with encoding 'utf-8'\n",
    "arr = bytearray(string, 'utf-8')\n",
    "print(arr,\"\\n\",\n",
    "      chr(arr[0]^arr[1]))  # this is used to calculate the \"bitwise or\" between the two integers as it only\n",
    "                           # calculated between integers in python\n",
    "print(arr[0],\"  \",arr[1])\n",
    "print(chr(80^121))      # output using the equivalent decimal numbers \n",
    "print(chr(arr[0]^arr[1])) # same output using the values stored into 'bytearray'\n",
    "print(type(list(arr)))"
   ]
  },
  {
   "cell_type": "code",
   "execution_count": 136,
   "metadata": {
    "Collapsed": "false"
   },
   "outputs": [
    {
     "name": "stdout",
     "output_type": "stream",
     "text": [
      "185\n"
     ]
    },
    {
     "data": {
      "text/plain": [
       "array([ 49,  50,  51,  52,  32,  84, 104, 105, 115,  32, 105, 115,  32,\n",
       "       116, 104, 101,  32, 116, 101, 120, 116,  32, 102, 105, 108, 101,\n",
       "        32, 116, 104,  97, 116,  32, 105,  32, 104,  97, 115,  32,  99,\n",
       "       114, 101,  97, 116, 101, 100,  32, 102, 111, 114,  32, 116, 101,\n",
       "       115, 116, 105, 110, 103,  32, 116, 104, 101,  32,  99, 111, 110,\n",
       "        99, 101, 112, 116,  32, 111, 102,  32, 110, 117, 109, 112, 121,\n",
       "        32, 115, 112, 108, 105, 116, 116, 105, 110, 103,  32,  97, 110,\n",
       "       100,  32, 116, 111,  32, 109,  97, 107, 101,  32,  10, 112, 114,\n",
       "       111,  99, 101, 115, 115,  32, 111, 102,  32,  99, 114, 101,  97,\n",
       "       116, 105, 110, 103,  32, 116, 104, 101,  32, 115, 116,  97, 116,\n",
       "       101,  32,  97, 114, 114,  97, 121,  32, 101,  97, 115, 121,  32,\n",
       "       105, 110,  32,  65, 101, 115,  32, 105, 109, 112, 108, 101, 109,\n",
       "       101, 110, 116,  97, 116, 105, 111, 110,  32, 112, 114, 111, 106,\n",
       "       101,  99, 116,  32, 119, 105, 116, 104,  32, 112, 121, 116, 104,\n",
       "       111, 110,  10], dtype=int8)"
      ]
     },
     "execution_count": 136,
     "metadata": {},
     "output_type": "execute_result"
    }
   ],
   "source": [
    "import pdb\n",
    "import numpy as np\n",
    "arr = np.fromfile('txtfile.txt', dtype='b') #this is a way to read a text or binary file in numpy and \n",
    "print(len(arr))\n",
    "arr             # and seperate in terms of one byte each for a character using dtype field as '|V1' or \n",
    "                # 'b'(for byte,don't know  more about it) which\n",
    "                # is denoted as void datatype and interpreted as raw datatype"
   ]
  },
  {
   "cell_type": "code",
   "execution_count": 137,
   "metadata": {
    "Collapsed": "false"
   },
   "outputs": [
    {
     "name": "stdout",
     "output_type": "stream",
     "text": [
      "[array([[ 49,  32, 115,  32],\n",
      "       [ 50,  84,  32, 116],\n",
      "       [ 51, 104, 105, 104],\n",
      "       [ 52, 105, 115, 101]], dtype=int8), array([[ 32, 116, 108, 104],\n",
      "       [116,  32, 101,  97],\n",
      "       [101, 102,  32, 116],\n",
      "       [120, 105, 116,  32]], dtype=int8), array([[105, 115, 101, 100],\n",
      "       [ 32,  32,  97,  32],\n",
      "       [104,  99, 116, 102],\n",
      "       [ 97, 114, 101, 111]], dtype=int8), array([[114, 115, 103, 101],\n",
      "       [ 32, 116,  32,  32],\n",
      "       [116, 105, 116,  99],\n",
      "       [101, 110, 104, 111]], dtype=int8), array([[110, 116,  32, 112],\n",
      "       [ 99,  32, 110, 121],\n",
      "       [101, 111, 117,  32],\n",
      "       [112, 102, 109, 115]], dtype=int8), array([[112, 116,  32,  32],\n",
      "       [108, 105,  97, 116],\n",
      "       [105, 110, 110, 111],\n",
      "       [116, 103, 100,  32]], dtype=int8), array([[109,  32, 111, 115],\n",
      "       [ 97,  10,  99,  32],\n",
      "       [107, 112, 101, 111],\n",
      "       [101, 114, 115, 102]], dtype=int8), array([[ 32,  97, 103, 101],\n",
      "       [ 99, 116,  32,  32],\n",
      "       [114, 105, 116, 115],\n",
      "       [101, 110, 104, 116]], dtype=int8), array([[ 97,  97, 121, 115],\n",
      "       [116, 114,  32, 121],\n",
      "       [101, 114, 101,  32],\n",
      "       [ 32,  97,  97, 105]], dtype=int8), array([[110, 115, 112, 101],\n",
      "       [ 32,  32, 108, 110],\n",
      "       [ 65, 105, 101, 116],\n",
      "       [101, 109, 109,  97]], dtype=int8), array([[116,  32, 106,  32],\n",
      "       [105, 112, 101, 119],\n",
      "       [111, 114,  99, 105],\n",
      "       [110, 111, 116, 116]], dtype=int8), array([[104, 116,  10,   0],\n",
      "       [ 32, 104,   0,   0],\n",
      "       [112, 111,   0,   0],\n",
      "       [121, 110,   0,   0]], dtype=int8)]\n"
     ]
    }
   ],
   "source": [
    "# testing the numpy split method (both 'split' and 'hsplit' method, split is uesd to split the array\n",
    "# along the row and 'hsplit' is used to split the array along the column)\n",
    "#print(arr.shape)\n",
    "length=len(arr)\n",
    "padding= length%16\n",
    "arr=np.append(arr,np.zeros(16-padding).astype('b'))# since we don't adding axis here therefore the\n",
    "#print(len(arr))\n",
    "p=arr\n",
    "np.split(arr,len(arr)/16) #values can be any shape and will be flattened before use.\n",
    "#print(len(arr)/16)\n",
    "hk=[np.reshape(i,(4,4)).transpose() for i in np.split(arr,len(arr)/16)]                        \n",
    "print(hk) # here each element of the 'hk' will represent a state array for the given text\n",
    "arr=None"
   ]
  },
  {
   "cell_type": "code",
   "execution_count": 156,
   "metadata": {
    "Collapsed": "false"
   },
   "outputs": [
    {
     "ename": "TypeError",
     "evalue": "ord() expected string of length 1, but numpy.int8 found",
     "output_type": "error",
     "traceback": [
      "\u001b[0;31m---------------------------------------------------------------------------\u001b[0m",
      "\u001b[0;31mTypeError\u001b[0m                                 Traceback (most recent call last)",
      "\u001b[0;32m<ipython-input-156-ea5bf3993e04>\u001b[0m in \u001b[0;36m<module>\u001b[0;34m\u001b[0m\n\u001b[0;32m----> 1\u001b[0;31m \u001b[0mord\u001b[0m\u001b[0;34m(\u001b[0m\u001b[0mp\u001b[0m\u001b[0;34m[\u001b[0m\u001b[0;36m0\u001b[0m\u001b[0;34m]\u001b[0m\u001b[0;34m)\u001b[0m\u001b[0;34m\u001b[0m\u001b[0;34m\u001b[0m\u001b[0m\n\u001b[0m        \u001b[0;36mglobal\u001b[0m \u001b[0;36mord\u001b[0m \u001b[0;34m= \u001b[0;36mundefined\u001b[0m\u001b[0m\u001b[0;34m\n        \u001b[0m\u001b[0;36mglobal\u001b[0m \u001b[0;36mp\u001b[0m \u001b[0;34m= array([ 49,  50,  51,  52,  32,  84, 104, 105, 115,  32, 105, 115,  32,\n       116, 104, 101,  32, 116, 101, 120, 116,  32, 102, 105, 108, 101,\n        32, 116, 104,  97, 116,  32, 105,  32, 104,  97, 115,  32,  99,\n       114, 101,  97, 116, 101, 100,  32, 102, 111, 114,  32, 116, 101,\n       115, 116, 105, 110, 103,  32, 116, 104, 101,  32,  99, 111, 110,\n        99, 101, 112, 116,  32, 111, 102,  32, 110, 117, 109, 112, 121,\n        32, 115, 112, 108, 105, 116, 116, 105, 110, 103,  32,  97, 110,\n       100,  32, 116, 111,  32, 109,  97, 107, 101,  32,  10, 112, 114,\n       111,  99, 101, 115, 115,  32, 111, 102,  32,  99, 114, 101,  97,\n       116, 105, 110, 103,  32, 116, 104, 101,  32, 115, 116,  97, 116,\n       101,  32,  97, 114, 114,  97, 121,  32, 101,  97, 115, 121,  32,\n       105, 110,  32,  65, 101, 115,  32, 105, 109, 112, 108, 101, 109,\n       101, 110, 116,  97, 116, 105, 111, 110,  32, 112, 114, 111, 106,\n       101,  99, 116,  32, 119, 105, 116, 104,  32, 112, 121, 116, 104,\n       111, 110,  10,   0,   0,   0,   0,   0,   0,   0], dtype=int8)\u001b[0m\n",
      "\u001b[0;31mTypeError\u001b[0m: ord() expected string of length 1, but numpy.int8 found"
     ]
    }
   ],
   "source": [
    "ord(p[0])"
   ]
  },
  {
   "cell_type": "code",
   "execution_count": 132,
   "metadata": {
    "Collapsed": "false"
   },
   "outputs": [
    {
     "ename": "TypeError",
     "evalue": "only integer scalar arrays can be converted to a scalar index",
     "output_type": "error",
     "traceback": [
      "\u001b[0;31m---------------------------------------------------------------------------\u001b[0m",
      "\u001b[0;31mTypeError\u001b[0m                                 Traceback (most recent call last)",
      "\u001b[0;32m<ipython-input-132-4af5253fe66b>\u001b[0m in \u001b[0;36m<module>\u001b[0;34m\u001b[0m\n\u001b[0;32m----> 1\u001b[0;31m \u001b[0mbytes\u001b[0m\u001b[0;34m(\u001b[0m\u001b[0mhk\u001b[0m\u001b[0;34m)\u001b[0m\u001b[0;34m\u001b[0m\u001b[0;34m\u001b[0m\u001b[0m\n\u001b[0m        \u001b[0;36mglobal\u001b[0m \u001b[0;36mbytes\u001b[0m \u001b[0;34m= \u001b[0;36mundefined\u001b[0m\u001b[0m\u001b[0;34m\n        \u001b[0m\u001b[0;36mglobal\u001b[0m \u001b[0;36mhk\u001b[0m \u001b[0;34m= [array([[ 84,  32, 116, 116],\n       [104, 105, 104, 101],\n       [105, 115, 101, 120],\n       [115,  32,  32, 116]], dtype=int8), array([[ 32, 101,  97,  32],\n       [102,  32, 116, 104],\n       [105, 116,  32,  97],\n       [108, 104, 105, 115]], dtype=int8), array([[ 32,  97,  32,  32],\n       [ 99, 116, 102, 116],\n       [114, 101, 111, 101],\n       [101, 100, 114, 115]], dtype=int8), array([[116,  32,  32,  99],\n       [105, 116,  99, 101],\n       [110, 104, 111, 112],\n       [103, 101, 110, 116]], dtype=int8), array([[ 32, 110, 121, 108],\n       [111, 117,  32, 105],\n       [102, 109, 115, 116],\n       [ 32, 112, 112, 116]], dtype=int8), array([[105,  97, 116,  97],\n       [110, 110, 111, 107],\n       [103, 100,  32, 101],\n       [ 32,  32, 109,  32]], dtype=int8), array([[ 10,  99,  32,  99],\n       [112, 101, 111, 114],\n       [114, 115, 102, 101],\n       [111, 115,  32,  97]], dtype=int8), array([[116,  32,  32, 116],\n       [105, 116, 115, 101],\n       [110, 104, 116,  32],\n       [103, 101,  97,  97]], dtype=int8), array([[114,  32, 121,  32],\n       [114, 101,  32,  65],\n       [ 97,  97, 105, 101],\n       [121, 115, 110, 115]], dtype=int8), array([[ 32, 108, 110, 105],\n       [105, 101, 116, 111],\n       [109, 109,  97, 110],\n       [112, 101, 116,  32]], dtype=int8), array([[112, 101, 119,  32],\n       [114,  99, 105, 112],\n       [111, 116, 116, 121],\n       [106,  32, 104, 116]], dtype=int8), array([[104,   0,   0,   0],\n       [111,   0,   0,   0],\n       [110,   0,   0,   0],\n       [ 10,   0,   0,   0]], dtype=int8)]\u001b[0m\n",
      "\u001b[0;31mTypeError\u001b[0m: only integer scalar arrays can be converted to a scalar index"
     ]
    }
   ],
   "source": [
    "bytes(hk)"
   ]
  },
  {
   "cell_type": "code",
   "execution_count": null,
   "metadata": {
    "Collapsed": "false"
   },
   "outputs": [],
   "source": []
  },
  {
   "cell_type": "code",
   "execution_count": 109,
   "metadata": {
    "Collapsed": "false"
   },
   "outputs": [
    {
     "data": {
      "text/plain": [
       "dtype('float64')"
      ]
     },
     "execution_count": 109,
     "metadata": {},
     "output_type": "execute_result"
    }
   ],
   "source": [
    "arr.dtype"
   ]
  },
  {
   "cell_type": "markdown",
   "metadata": {
    "Collapsed": "true"
   },
   "source": [
    "### code for creating the state array"
   ]
  },
  {
   "cell_type": "code",
   "execution_count": null,
   "metadata": {
    "Collapsed": "false"
   },
   "outputs": [],
   "source": []
  },
  {
   "cell_type": "code",
   "execution_count": null,
   "metadata": {
    "Collapsed": "false"
   },
   "outputs": [],
   "source": [
    "import numpy as np\n",
    "file_content = np.fromfile('repositories/AES_library_utility/data/TextFile.txt',dtype='|V1')\n",
    "for i in range(0,len(file_content),16):\n",
    "    state_array=list"
   ]
  },
  {
   "cell_type": "code",
   "execution_count": null,
   "metadata": {
    "Collapsed": "false"
   },
   "outputs": [],
   "source": [
    "a = np.array([[1,2,3], [4,5,6]])\n",
    "np.reshape(a, 6)"
   ]
  },
  {
   "cell_type": "code",
   "execution_count": null,
   "metadata": {
    "Collapsed": "false"
   },
   "outputs": [],
   "source": [
    "print(np.reshape(a, (3,2)).transpose())"
   ]
  },
  {
   "cell_type": "code",
   "execution_count": null,
   "metadata": {
    "Collapsed": "false"
   },
   "outputs": [],
   "source": [
    "print(type(str(0)))"
   ]
  },
  {
   "cell_type": "code",
   "execution_count": null,
   "metadata": {
    "Collapsed": "false"
   },
   "outputs": [],
   "source": [
    "import numpy as np\n",
    "arr = np.fromfile('txtfile.txt', dtype='|V1') #this is a way to read a text or binary file in numpy and \n",
    "arr.shape             # and seperate in terms of one byte each for a character using dtype field as '|V1' which\n",
    "                # is denoted as void datatype and interpreted as raw datatype"
   ]
  },
  {
   "cell_type": "code",
   "execution_count": null,
   "metadata": {
    "Collapsed": "false"
   },
   "outputs": [],
   "source": [
    "bh='\\x88'"
   ]
  },
  {
   "cell_type": "code",
   "execution_count": null,
   "metadata": {
    "Collapsed": "false"
   },
   "outputs": [],
   "source": [
    "ord(bh)"
   ]
  },
  {
   "cell_type": "code",
   "execution_count": null,
   "metadata": {
    "Collapsed": "false"
   },
   "outputs": [],
   "source": [
    "chr(186)"
   ]
  },
  {
   "cell_type": "code",
   "execution_count": null,
   "metadata": {
    "Collapsed": "false"
   },
   "outputs": [],
   "source": [
    "# testing the numpy split method (both 'split' and 'hsplit' method, split is uesd to split the array\n",
    "# along the row and 'hsplit' is used to split the array along the column)\n",
    "print(arr.shape)\n",
    "padding= len(arr)%16\n",
    "arr=np.append(arr,np.zeros(padding).astype('|V1'))# since we don't adding axis here therefore the\n",
    "np.split(arr,len(arr)/16) #values can be any shape and will be flattened before use.\n",
    "#print(len(arr)/16)\n",
    "hk=[np.reshape(i,(4,4)).transpose() for i in np.split(arr,len(arr)/16)]                        \n",
    "#print(hk) # here each element of the 'hk' will represent a state array for the given text"
   ]
  },
  {
   "cell_type": "code",
   "execution_count": 57,
   "metadata": {
    "Collapsed": "false"
   },
   "outputs": [
    {
     "ename": "TypeError",
     "evalue": "encoding or errors without a string argument",
     "output_type": "error",
     "traceback": [
      "\u001b[0;31m---------------------------------------------------------------------------\u001b[0m",
      "\u001b[0;31mTypeError\u001b[0m                                 Traceback (most recent call last)",
      "\u001b[0;32m<ipython-input-57-86eb9f91126d>\u001b[0m in \u001b[0;36m<module>\u001b[0;34m\u001b[0m\n\u001b[1;32m      1\u001b[0m \u001b[0;31m#chr(bytearray('\\x6F','utf-8')[0])\u001b[0m\u001b[0;34m\u001b[0m\u001b[0;34m\u001b[0m\u001b[0;34m\u001b[0m\u001b[0m\n\u001b[0;32m----> 2\u001b[0;31m \u001b[0mbytearray\u001b[0m\u001b[0;34m(\u001b[0m\u001b[0mhk\u001b[0m\u001b[0;34m[\u001b[0m\u001b[0;36m0\u001b[0m\u001b[0;34m]\u001b[0m\u001b[0;34m[\u001b[0m\u001b[0;36m0\u001b[0m\u001b[0;34m]\u001b[0m\u001b[0;34m[\u001b[0m\u001b[0;36m1\u001b[0m\u001b[0;34m]\u001b[0m\u001b[0;34m,\u001b[0m\u001b[0;34m'U'\u001b[0m\u001b[0;34m)\u001b[0m\u001b[0;34m\u001b[0m\u001b[0;34m\u001b[0m\u001b[0m\n\u001b[0m",
      "\u001b[0;31mTypeError\u001b[0m: encoding or errors without a string argument"
     ]
    }
   ],
   "source": [
    "#chr(bytearray('\\x6F','utf-8')[0])\n",
    "bytearray(hk[0][0][1],'U')"
   ]
  },
  {
   "cell_type": "code",
   "execution_count": 51,
   "metadata": {
    "Collapsed": "false"
   },
   "outputs": [
    {
     "data": {
      "text/plain": [
       "1"
      ]
     },
     "execution_count": 51,
     "metadata": {},
     "output_type": "execute_result"
    }
   ],
   "source": [
    "hk[0][0][1].itemsize #to get the size of elements in bytes"
   ]
  },
  {
   "cell_type": "code",
   "execution_count": null,
   "metadata": {
    "Collapsed": "false"
   },
   "outputs": [],
   "source": [
    "[for j in hk[0][0]]"
   ]
  },
  {
   "cell_type": "code",
   "execution_count": 53,
   "metadata": {
    "Collapsed": "false"
   },
   "outputs": [
    {
     "data": {
      "text/plain": [
       "1"
      ]
     },
     "execution_count": 53,
     "metadata": {},
     "output_type": "execute_result"
    }
   ],
   "source": [
    "hk[0][0][1].nbytes"
   ]
  },
  {
   "cell_type": "markdown",
   "metadata": {
    "Collapsed": "true"
   },
   "source": [
    "### next try"
   ]
  },
  {
   "cell_type": "code",
   "execution_count": 1,
   "metadata": {
    "Collapsed": "false"
   },
   "outputs": [
    {
     "ename": "TypeError",
     "evalue": "'bytes' object cannot be interpreted as an integer",
     "output_type": "error",
     "traceback": [
      "\u001b[0;31m---------------------------------------------------------------------------\u001b[0m",
      "\u001b[0;31mTypeError\u001b[0m                                 Traceback (most recent call last)",
      "\u001b[0;32m<ipython-input-1-4212e8baac9e>\u001b[0m in \u001b[0;36m<module>\u001b[0;34m\u001b[0m\n\u001b[1;32m      1\u001b[0m \u001b[0;32mwith\u001b[0m \u001b[0mopen\u001b[0m\u001b[0;34m(\u001b[0m\u001b[0;34m'txtfile.txt'\u001b[0m\u001b[0;34m,\u001b[0m\u001b[0;34m'rb'\u001b[0m\u001b[0;34m)\u001b[0m \u001b[0;32mas\u001b[0m \u001b[0mf\u001b[0m\u001b[0;34m:\u001b[0m\u001b[0;34m\u001b[0m\u001b[0;34m\u001b[0m\u001b[0m\n\u001b[0;32m----> 2\u001b[0;31m     \u001b[0msha\u001b[0m\u001b[0;34m=\u001b[0m\u001b[0mbytes\u001b[0m\u001b[0;34m(\u001b[0m\u001b[0mf\u001b[0m\u001b[0;34m)\u001b[0m\u001b[0;34m\u001b[0m\u001b[0;34m\u001b[0m\u001b[0m\n\u001b[0m",
      "\u001b[0;31mTypeError\u001b[0m: 'bytes' object cannot be interpreted as an integer"
     ]
    }
   ],
   "source": [
    "with open('txtfile.txt','rb') as f:\n",
    "    sha=bytes(f)"
   ]
  },
  {
   "cell_type": "code",
   "execution_count": 23,
   "metadata": {
    "Collapsed": "false"
   },
   "outputs": [
    {
     "ename": "IndexError",
     "evalue": "too many indices for array",
     "output_type": "error",
     "traceback": [
      "\u001b[0;31m---------------------------------------------------------------------------\u001b[0m",
      "\u001b[0;31mIndexError\u001b[0m                                Traceback (most recent call last)",
      "\u001b[0;32m<ipython-input-23-7105d187bab9>\u001b[0m in \u001b[0;36m<module>\u001b[0;34m\u001b[0m\n\u001b[0;32m----> 1\u001b[0;31m \u001b[0msha\u001b[0m\u001b[0;34m[\u001b[0m\u001b[0;36m0\u001b[0m\u001b[0;34m]\u001b[0m\u001b[0;34m\u001b[0m\u001b[0;34m\u001b[0m\u001b[0m\n\u001b[0m",
      "\u001b[0;31mIndexError\u001b[0m: too many indices for array"
     ]
    }
   ],
   "source": [
    "sha[0]"
   ]
  },
  {
   "cell_type": "code",
   "execution_count": 146,
   "metadata": {
    "Collapsed": "false"
   },
   "outputs": [],
   "source": [
    "du=None"
   ]
  },
  {
   "cell_type": "code",
   "execution_count": 147,
   "metadata": {
    "Collapsed": "false"
   },
   "outputs": [],
   "source": [
    "du=0x56"
   ]
  },
  {
   "cell_type": "code",
   "execution_count": 149,
   "metadata": {
    "Collapsed": "false"
   },
   "outputs": [
    {
     "data": {
      "text/plain": [
       "int"
      ]
     },
     "execution_count": 149,
     "metadata": {},
     "output_type": "execute_result"
    }
   ],
   "source": [
    "type(du)"
   ]
  },
  {
   "cell_type": "code",
   "execution_count": 152,
   "metadata": {
    "Collapsed": "false"
   },
   "outputs": [
    {
     "data": {
      "text/plain": [
       "'0b1010110'"
      ]
     },
     "execution_count": 152,
     "metadata": {},
     "output_type": "execute_result"
    }
   ],
   "source": [
    "bin(du) # all these methods gives strings as the output and not the int or anything else as since the fundamental type for binary or other \n",
    "        # things doesn't exist in python"
   ]
  },
  {
   "cell_type": "code",
   "execution_count": 151,
   "metadata": {
    "Collapsed": "false"
   },
   "outputs": [
    {
     "data": {
      "text/plain": [
       "str"
      ]
     },
     "execution_count": 151,
     "metadata": {},
     "output_type": "execute_result"
    }
   ],
   "source": [
    "type(hex(45))"
   ]
  },
  {
   "cell_type": "markdown",
   "metadata": {
    "Collapsed": "false"
   },
   "source": [
    "### final method to create input state array from the given file"
   ]
  },
  {
   "cell_type": "code",
   "execution_count": 1,
   "metadata": {
    "Collapsed": "false"
   },
   "outputs": [],
   "source": [
    "# comment for any line of code is listed just below that line at a suitable distance\n",
    "\n",
    "import numpy as np\n",
    "def input_text(filename):\n",
    "    \n",
    "    state_array= np.fromfile(filename, dtype=np.uint8)                  \n",
    "                                                                        # this shows ('b'=np.byte) the byte data type and store them\n",
    "                                                                        #  into utf-8 integer encoding in a variable of 8-bit integer.\n",
    "    length= len(state_array)\n",
    "    padding= length%16\n",
    "    state_array= np.append(state_array,np.zeros(16-padding).astype(np.uint8)) \n",
    "                                                                        # since we don't adding axis here therefore the values of the \n",
    "                                                                        # added array will be flattened before use and would then be merged. \n",
    "    \n",
    "    state_array= np.array([np.reshape(i,(4,4)).transpose() for i in np.split(state_array,len(state_array)/16)])                        \n",
    "    return state_array                                             \n",
    "                                                                        # here each element of the 'state_array' will represent a state array \n",
    "                                                                        # for the given text."
   ]
  },
  {
   "cell_type": "code",
   "execution_count": 2,
   "metadata": {
    "Collapsed": "false"
   },
   "outputs": [],
   "source": [
    "state_array= input_text('txtfile.txt')                       "
   ]
  },
  {
   "cell_type": "code",
   "execution_count": 3,
   "metadata": {
    "Collapsed": "false"
   },
   "outputs": [
    {
     "data": {
      "text/plain": [
       "numpy.ndarray"
      ]
     },
     "execution_count": 3,
     "metadata": {},
     "output_type": "execute_result"
    }
   ],
   "source": [
    "type(state_array)"
   ]
  },
  {
   "cell_type": "code",
   "execution_count": 4,
   "metadata": {
    "Collapsed": "false"
   },
   "outputs": [
    {
     "name": "stdout",
     "output_type": "stream",
     "text": [
      "[[[ 49  32 115  32]\n",
      "  [ 50  84  32 116]\n",
      "  [ 51 104 105 104]\n",
      "  [ 52 105 115 101]]\n",
      "\n",
      " [[ 32 116 108 104]\n",
      "  [116  32 101  97]\n",
      "  [101 102  32 116]\n",
      "  [120 105 116  32]]\n",
      "\n",
      " [[105 115 101 100]\n",
      "  [ 32  32  97  32]\n",
      "  [104  99 116 102]\n",
      "  [ 97 114 101 111]]\n",
      "\n",
      " [[114 115 103 101]\n",
      "  [ 32 116  32  32]\n",
      "  [116 105 116 105]\n",
      "  [101 110 104  32]]\n",
      "\n",
      " [[ 99 101 111 117]\n",
      "  [111 112 102 109]\n",
      "  [110 116  32 112]\n",
      "  [ 99  32 110 121]]\n",
      "\n",
      " [[ 32 105 110 110]\n",
      "  [115 116 103 100]\n",
      "  [112 116  32  32]\n",
      "  [108 105  97 116]]\n",
      "\n",
      " [[111 107 112 101]\n",
      "  [ 32 101 114 115]\n",
      "  [109  32 111 115]\n",
      "  [ 97  10  99  32]]\n",
      "\n",
      " [[111 114 105 116]\n",
      "  [102 101 110 104]\n",
      "  [ 32  97 103 101]\n",
      "  [ 99 116  32  32]]\n",
      "\n",
      " [[115 101 114 101]\n",
      "  [116  32  97  97]\n",
      "  [ 97  97 121 115]\n",
      "  [116 114  32 121]]\n",
      "\n",
      " [[ 32  65 105 101]\n",
      "  [105 101 109 109]\n",
      "  [110 115 112 101]\n",
      "  [ 32  32 108 110]]\n",
      "\n",
      " [[116 111 114  99]\n",
      "  [ 97 110 111 116]\n",
      "  [116  32 106  32]\n",
      "  [105 112 101 119]]\n",
      "\n",
      " [[105 112 111   0]\n",
      "  [116 121 110   0]\n",
      "  [104 116  10   0]\n",
      "  [ 32 104   0   0]]]\n"
     ]
    }
   ],
   "source": [
    "print(state_array[:])                       "
   ]
  },
  {
   "cell_type": "code",
   "execution_count": 5,
   "metadata": {
    "Collapsed": "false"
   },
   "outputs": [
    {
     "data": {
      "text/plain": [
       "array([[['1', ' ', 's', ' '],\n",
       "        ['2', 'T', ' ', 't'],\n",
       "        ['3', 'h', 'i', 'h'],\n",
       "        ['4', 'i', 's', 'e']],\n",
       "\n",
       "       [[' ', 't', 'l', 'h'],\n",
       "        ['t', ' ', 'e', 'a'],\n",
       "        ['e', 'f', ' ', 't'],\n",
       "        ['x', 'i', 't', ' ']],\n",
       "\n",
       "       [['i', 's', 'e', 'd'],\n",
       "        [' ', ' ', 'a', ' '],\n",
       "        ['h', 'c', 't', 'f'],\n",
       "        ['a', 'r', 'e', 'o']],\n",
       "\n",
       "       [['r', 's', 'g', 'e'],\n",
       "        [' ', 't', ' ', ' '],\n",
       "        ['t', 'i', 't', 'i'],\n",
       "        ['e', 'n', 'h', ' ']],\n",
       "\n",
       "       [['c', 'e', 'o', 'u'],\n",
       "        ['o', 'p', 'f', 'm'],\n",
       "        ['n', 't', ' ', 'p'],\n",
       "        ['c', ' ', 'n', 'y']],\n",
       "\n",
       "       [[' ', 'i', 'n', 'n'],\n",
       "        ['s', 't', 'g', 'd'],\n",
       "        ['p', 't', ' ', ' '],\n",
       "        ['l', 'i', 'a', 't']],\n",
       "\n",
       "       [['o', 'k', 'p', 'e'],\n",
       "        [' ', 'e', 'r', 's'],\n",
       "        ['m', ' ', 'o', 's'],\n",
       "        ['a', '\\n', 'c', ' ']],\n",
       "\n",
       "       [['o', 'r', 'i', 't'],\n",
       "        ['f', 'e', 'n', 'h'],\n",
       "        [' ', 'a', 'g', 'e'],\n",
       "        ['c', 't', ' ', ' ']],\n",
       "\n",
       "       [['s', 'e', 'r', 'e'],\n",
       "        ['t', ' ', 'a', 'a'],\n",
       "        ['a', 'a', 'y', 's'],\n",
       "        ['t', 'r', ' ', 'y']],\n",
       "\n",
       "       [[' ', 'A', 'i', 'e'],\n",
       "        ['i', 'e', 'm', 'm'],\n",
       "        ['n', 's', 'p', 'e'],\n",
       "        [' ', ' ', 'l', 'n']],\n",
       "\n",
       "       [['t', 'o', 'r', 'c'],\n",
       "        ['a', 'n', 'o', 't'],\n",
       "        ['t', ' ', 'j', ' '],\n",
       "        ['i', 'p', 'e', 'w']],\n",
       "\n",
       "       [['i', 'p', 'o', ''],\n",
       "        ['t', 'y', 'n', ''],\n",
       "        ['h', 't', '\\n', ''],\n",
       "        [' ', 'h', '', '']]], dtype='<U1')"
      ]
     },
     "execution_count": 5,
     "metadata": {},
     "output_type": "execute_result"
    }
   ],
   "source": [
    "character_conversion=np.vectorize(chr)\n",
    "character_conversion(state_array)"
   ]
  },
  {
   "cell_type": "code",
   "execution_count": 6,
   "metadata": {
    "Collapsed": "false"
   },
   "outputs": [],
   "source": [
    "# creating the hex string equivalent of the state_array created\n",
    "\n",
    "vectorize_function= np.vectorize(hex)\n",
    "                                     # the \"np.vectorize\" works like \"map\" function in python except that it uses broadcasting rules also \n",
    "                                     # for laying the output  \n",
    "                                     # see https://docs.scipy.org/doc/numpy/reference/generated/numpy.vectorize.html for details on vectorize\n",
    "\n",
    "vectorize_function(state_array)\n",
    "#state_array_hex= np.array([np.array(i) for i in vectorize_function(state_array)])\n",
    "state_array_hex= vectorize_function(state_array)"
   ]
  },
  {
   "cell_type": "code",
   "execution_count": 7,
   "metadata": {
    "Collapsed": "false"
   },
   "outputs": [],
   "source": [
    "%%capture\n",
    "print(state_array_hex[:])"
   ]
  },
  {
   "cell_type": "code",
   "execution_count": 8,
   "metadata": {
    "Collapsed": "false"
   },
   "outputs": [],
   "source": [
    "%%capture\n",
    "type(state_array_hex)     # this shows that np.vectorize returned a np.array object "
   ]
  },
  {
   "cell_type": "code",
   "execution_count": 9,
   "metadata": {
    "Collapsed": "false"
   },
   "outputs": [],
   "source": [
    "# Sbox creation for the Gf(2^8)\n",
    "\n",
    "sbox =  [0x63, 0x7c, 0x77, 0x7b, 0xf2, 0x6b, 0x6f, 0xc5, 0x30, 0x01, 0x67,\n",
    "         0x2b, 0xfe, 0xd7, 0xab, 0x76, 0xca, 0x82, 0xc9, 0x7d, 0xfa, 0x59,\n",
    "         0x47, 0xf0, 0xad, 0xd4, 0xa2, 0xaf, 0x9c, 0xa4, 0x72, 0xc0, 0xb7,\n",
    "         0xfd, 0x93, 0x26, 0x36, 0x3f, 0xf7, 0xcc, 0x34, 0xa5, 0xe5, 0xf1,\n",
    "         0x71, 0xd8, 0x31, 0x15, 0x04, 0xc7, 0x23, 0xc3, 0x18, 0x96, 0x05,\n",
    "         0x9a, 0x07, 0x12, 0x80, 0xe2, 0xeb, 0x27, 0xb2, 0x75, 0x09, 0x83,\n",
    "         0x2c, 0x1a, 0x1b, 0x6e, 0x5a, 0xa0, 0x52, 0x3b, 0xd6, 0xb3, 0x29,\n",
    "         0xe3, 0x2f, 0x84, 0x53, 0xd1, 0x00, 0xed, 0x20, 0xfc, 0xb1, 0x5b,\n",
    "         0x6a, 0xcb, 0xbe, 0x39, 0x4a, 0x4c, 0x58, 0xcf, 0xd0, 0xef, 0xaa,\n",
    "         0xfb, 0x43, 0x4d, 0x33, 0x85, 0x45, 0xf9, 0x02, 0x7f, 0x50, 0x3c,\n",
    "         0x9f, 0xa8, 0x51, 0xa3, 0x40, 0x8f, 0x92, 0x9d, 0x38, 0xf5, 0xbc,\n",
    "         0xb6, 0xda, 0x21, 0x10, 0xff, 0xf3, 0xd2, 0xcd, 0x0c, 0x13, 0xec,\n",
    "         0x5f, 0x97, 0x44, 0x17, 0xc4, 0xa7, 0x7e, 0x3d, 0x64, 0x5d, 0x19,\n",
    "         0x73, 0x60, 0x81, 0x4f, 0xdc, 0x22, 0x2a, 0x90, 0x88, 0x46, 0xee,\n",
    "         0xb8, 0x14, 0xde, 0x5e, 0x0b, 0xdb, 0xe0, 0x32, 0x3a, 0x0a, 0x49,\n",
    "         0x06, 0x24, 0x5c, 0xc2, 0xd3, 0xac, 0x62, 0x91, 0x95, 0xe4, 0x79,\n",
    "         0xe7, 0xc8, 0x37, 0x6d, 0x8d, 0xd5, 0x4e, 0xa9, 0x6c, 0x56, 0xf4,\n",
    "         0xea, 0x65, 0x7a, 0xae, 0x08, 0xba, 0x78, 0x25, 0x2e, 0x1c, 0xa6,\n",
    "         0xb4, 0xc6, 0xe8, 0xdd, 0x74, 0x1f, 0x4b, 0xbd, 0x8b, 0x8a, 0x70,\n",
    "         0x3e, 0xb5, 0x66, 0x48, 0x03, 0xf6, 0x0e, 0x61, 0x35, 0x57, 0xb9,\n",
    "         0x86, 0xc1, 0x1d, 0x9e, 0xe1, 0xf8, 0x98, 0x11, 0x69, 0xd9, 0x8e,\n",
    "         0x94, 0x9b, 0x1e, 0x87, 0xe9, 0xce, 0x55, 0x28, 0xdf, 0x8c, 0xa1,\n",
    "         0x89, 0x0d, 0xbf, 0xe6, 0x42, 0x68, 0x41, 0x99, 0x2d, 0x0f, 0xb0,\n",
    "         0x54, 0xbb, 0x16]\n",
    "                                         # this representation is in hexadecimal format so while printing it we wil get corresponding integers\n",
    "\n",
    "s_box=np.array(sbox).reshape(16,16)                              \n",
    "                                         # converting the sbox list into a numpy array of 16x16"
   ]
  },
  {
   "cell_type": "code",
   "execution_count": 10,
   "metadata": {
    "Collapsed": "false"
   },
   "outputs": [],
   "source": [
    "%%capture\n",
    "print(s_box[:])"
   ]
  },
  {
   "cell_type": "code",
   "execution_count": 11,
   "metadata": {
    "Collapsed": "false"
   },
   "outputs": [],
   "source": [
    "%%capture\n",
    "type(s_box)"
   ]
  },
  {
   "cell_type": "code",
   "execution_count": 12,
   "metadata": {
    "Collapsed": "false"
   },
   "outputs": [],
   "source": [
    "# first four and last four bit integer value of a passed integer\n",
    "import math\n",
    "import numpy as np\n",
    "\n",
    "def first_last_four(num8):\n",
    "    first_four= last_four= 0\n",
    "    for i in range(4):\n",
    "        last_four+= num8%2*math.pow(2,i)\n",
    "        num8= num8//2\n",
    "                                             # to have the integer remainder of num8 variable\n",
    "            \n",
    "    for i in range(4):\n",
    "        first_four+= num8%2*math.pow(2,i)\n",
    "        num8= num8//2\n",
    "                                             \n",
    "    return s_box[int(first_four)][int(last_four)]\n",
    "                                            # this will return the substitute byte or the number from the table 's_box'\n",
    "    \n",
    "vectorized_first_last_four= np.vectorize(first_last_four)    \n",
    "                                             # this will create the vectorize version of the \"firs_last_four\" function for numpy array "
   ]
  },
  {
   "cell_type": "code",
   "execution_count": 13,
   "metadata": {
    "Collapsed": "false"
   },
   "outputs": [],
   "source": [
    "# this is to design a method for the Byte_substitution step as done in the above cell so above cell code can be omitted safely deleted\n",
    "def byte_substitution(state_array_copy):\n",
    "    \n",
    "    return vectorized_first_last_four(state_array_copy)\n",
    "        "
   ]
  },
  {
   "cell_type": "code",
   "execution_count": 14,
   "metadata": {
    "Collapsed": "false"
   },
   "outputs": [],
   "source": [
    "%%capture\n",
    "sub_state_array= byte_substitution(state_array)\n",
    "print(sub_state_array)"
   ]
  },
  {
   "cell_type": "code",
   "execution_count": 15,
   "metadata": {
    "Collapsed": "false"
   },
   "outputs": [
    {
     "data": {
      "text/plain": [
       "array(199)"
      ]
     },
     "execution_count": 15,
     "metadata": {},
     "output_type": "execute_result"
    }
   ],
   "source": [
    "byte_substitution(49) \n",
    "                       # this shows that our byte_substitution will works even on integers also but it always return the output\n",
    "                       # in np.ndarray format"
   ]
  },
  {
   "cell_type": "raw",
   "metadata": {
    "Collapsed": "false"
   },
   "source": [
    "#working everything in the desired form up to this step"
   ]
  },
  {
   "cell_type": "markdown",
   "metadata": {
    "Collapsed": "false"
   },
   "source": [
    "## Creating key expansion algorithm form here"
   ]
  },
  {
   "cell_type": "raw",
   "metadata": {
    "Collapsed": "false"
   },
   "source": [
    "For key expansion we have to first create the state_array of the key data in the key file given to us\n",
    "then we have to follow the algorithm of that, which is stated as below (basically the copied content from the study material)\n",
    "\n",
    "\n"
   ]
  },
  {
   "cell_type": "code",
   "execution_count": 16,
   "metadata": {
    "Collapsed": "false"
   },
   "outputs": [],
   "source": [
    "import numpy as np\n",
    "def input_text_key(filename):\n",
    "    \n",
    "    state_array= np.fromfile(filename, dtype=np.uint8)                  \n",
    "                                                                # this shows ('b'=np.byte) the byte data type and store them\n",
    "                                                                # into utf-8 integer encoding in a variable of 8-bit integer.\n",
    "    length= len(state_array)\n",
    "    if length >= 16:\n",
    "        state_array= state_array[:16]\n",
    "                                                                # here neglecting the rest of the file txt if more than 16 characters\n",
    "    else:\n",
    "        padding= length%16\n",
    "        state_array= np.append(state_array,np.zeros(16-padding).astype(np.uint8))\n",
    "                                                                # here adding the rest of characters as 0 if have less than 16 \n",
    "                                                                # character in the input text key file.              \n",
    "    \n",
    "    state_array= np.array([np.reshape(state_array,(4,4)).transpose()])                        \n",
    "    return state_array                                             \n",
    "                                                                # reshaping the array as a 4x4 matrix and using list to encapsulate it \n",
    "                                                                # into another np.array to have the structure similar to the \n",
    "                                                                # state_array"
   ]
  },
  {
   "cell_type": "code",
   "execution_count": 17,
   "metadata": {
    "Collapsed": "false"
   },
   "outputs": [],
   "source": [
    "original_key= input_text_key('Text_File.txt')"
   ]
  },
  {
   "cell_type": "code",
   "execution_count": 18,
   "metadata": {
    "Collapsed": "false"
   },
   "outputs": [
    {
     "name": "stdout",
     "output_type": "stream",
     "text": [
      "[[[104 111  48  48]\n",
      "  [101  48  48  48]\n",
      "  [108  48  48  48]\n",
      "  [108  48  48  48]]] \n",
      "\n",
      " (1, 4, 4) \n",
      "\n",
      " <class 'numpy.ndarray'>\n"
     ]
    }
   ],
   "source": [
    "print(original_key,\"\\n\\n\",original_key.shape,\"\\n\\n\",type(original_key))"
   ]
  },
  {
   "cell_type": "markdown",
   "metadata": {
    "Collapsed": "false"
   },
   "source": [
    "### creating rotation constant and one byte left rotate method along column from here "
   ]
  },
  {
   "cell_type": "code",
   "execution_count": 19,
   "metadata": {
    "Collapsed": "false"
   },
   "outputs": [],
   "source": [
    "rotconst=np.zeros((original_key.shape),dtype=np.uint8)"
   ]
  },
  {
   "cell_type": "code",
   "execution_count": 20,
   "metadata": {
    "Collapsed": "false"
   },
   "outputs": [],
   "source": [
    "for i in range(4):              # this is the loop to conver the 'rotconst' into required rotation matrix \n",
    "    rotconst[0,i,(i+1)%4]=1\n",
    "                                # as the pattern is always 1+i but when it(i+1) reaches the value of 4 it turns to 0 therefore\n",
    "                                # use modulus by 4"
   ]
  },
  {
   "cell_type": "code",
   "execution_count": 21,
   "metadata": {
    "Collapsed": "false"
   },
   "outputs": [
    {
     "name": "stdout",
     "output_type": "stream",
     "text": [
      "[[[0 1 0 0]\n",
      "  [0 0 1 0]\n",
      "  [0 0 0 1]\n",
      "  [1 0 0 0]]]\n"
     ]
    }
   ],
   "source": [
    "print(rotconst)"
   ]
  },
  {
   "cell_type": "code",
   "execution_count": 22,
   "metadata": {
    "Collapsed": "false"
   },
   "outputs": [],
   "source": [
    "def rotkey(roundkey):              # this is the method for applying the left rotation in the given roundkey in total, column wise\n",
    "    return rotconst.dot(roundkey).transpose()  \n",
    "                                   # since the rotconst can be used to left rotate a given matrix element column wise hence we apply\n",
    "                                   # multiplication of the 'roundkey' with rotconst(specifically rotconst with roundkey)"
   ]
  },
  {
   "cell_type": "raw",
   "metadata": {
    "Collapsed": "false"
   },
   "source": [
    "note that we only need to apply the rotation constant to a particular column of a round key array and that should be the first column "
   ]
  },
  {
   "cell_type": "code",
   "execution_count": 23,
   "metadata": {
    "Collapsed": "false"
   },
   "outputs": [
    {
     "name": "stdout",
     "output_type": "stream",
     "text": [
      "[[[104 111  48  48]\n",
      "  [101  48  48  48]\n",
      "  [108  48  48  48]\n",
      "  [108  48  48  48]]] \n",
      "\n",
      " [[101]\n",
      " [108]\n",
      " [108]\n",
      " [104]]\n"
     ]
    }
   ],
   "source": [
    "print(original_key,\"\\n\\n\",rotkey(original_key[0,:,0]))"
   ]
  },
  {
   "cell_type": "markdown",
   "metadata": {
    "Collapsed": "false"
   },
   "source": [
    "### creating round constant from here"
   ]
  },
  {
   "cell_type": "code",
   "execution_count": 24,
   "metadata": {
    "Collapsed": "false"
   },
   "outputs": [],
   "source": [
    "# calculating the value of x^i for where x = 2 in decimal and the multiplication is abiding the rules of galois field 2^8\n",
    "lefShift_xor= lambda x : (x<<1) if (x<<1)<=128 else np.uint8(x<<1)^27\n",
    "                                             # this is equivalent to multiply a number here 'x' with 2 in galois field 2^8\n",
    "                                             # here i use np.uint8 because python integer is not of 8-bit and bit shift wouldn't work \n",
    "                                             # correctly and that is it would drop the bit shifted after 8 bits positions\n",
    "def round_constant(i):\n",
    "    global roundcosntant\n",
    "    roundconstant= 1\n",
    "    for j in range(2,i+1):\n",
    "                                             # use i because while calling the round_constant function, index of the array is used \n",
    "                                             # and which is equal to the round number itself and we want one less than round number as\n",
    "                                             # as per page 19 and 20 article and sudo code given in nist notes of AES\n",
    "        roundconstant= lefShift_xor(roundconstant)\n",
    "        \n",
    "    return np.array([roundconstant,0,0,0]).reshape(4,1)"
   ]
  },
  {
   "cell_type": "markdown",
   "metadata": {
    "Collapsed": "false"
   },
   "source": [
    "### key expansion final function rough work"
   ]
  },
  {
   "cell_type": "code",
   "execution_count": 25,
   "metadata": {
    "Collapsed": "false"
   },
   "outputs": [
    {
     "name": "stdout",
     "output_type": "stream",
     "text": [
      "[[48 48 48 48]]\n"
     ]
    }
   ],
   "source": [
    "print(original_key[:,:,3]) # it is basically returning the list of the element required by the indexing \n",
    "                           # i.e a list of all the last elements of each row, compare it with below original data"
   ]
  },
  {
   "cell_type": "code",
   "execution_count": 26,
   "metadata": {
    "Collapsed": "false"
   },
   "outputs": [
    {
     "name": "stdout",
     "output_type": "stream",
     "text": [
      "[[[104 111  48  48]\n",
      "  [101  48  48  48]\n",
      "  [108  48  48  48]\n",
      "  [108  48  48  48]]]\n"
     ]
    }
   ],
   "source": [
    "print(original_key)"
   ]
  },
  {
   "cell_type": "code",
   "execution_count": 27,
   "metadata": {
    "Collapsed": "false"
   },
   "outputs": [
    {
     "name": "stdout",
     "output_type": "stream",
     "text": [
      "[[48]\n",
      " [48]\n",
      " [48]\n",
      " [48]]\n"
     ]
    }
   ],
   "source": [
    "print(original_key[:,:,3].transpose())"
   ]
  },
  {
   "cell_type": "code",
   "execution_count": 28,
   "metadata": {
    "Collapsed": "false"
   },
   "outputs": [],
   "source": [
    "hs= original_key.copy()"
   ]
  },
  {
   "cell_type": "code",
   "execution_count": 29,
   "metadata": {
    "Collapsed": "false"
   },
   "outputs": [],
   "source": [
    "hs[:,:,3]=hs[:,:,3]^hs[:,:,3] # this is the way that can be used to apply bit wise xor to a particular row of an array"
   ]
  },
  {
   "cell_type": "code",
   "execution_count": 30,
   "metadata": {
    "Collapsed": "false"
   },
   "outputs": [
    {
     "data": {
      "text/plain": [
       "array([[[104, 111,  48,   0],\n",
       "        [101,  48,  48,   0],\n",
       "        [108,  48,  48,   0],\n",
       "        [108,  48,  48,   0]]], dtype=uint8)"
      ]
     },
     "execution_count": 30,
     "metadata": {},
     "output_type": "execute_result"
    }
   ],
   "source": [
    "hs"
   ]
  },
  {
   "cell_type": "raw",
   "metadata": {
    "Collapsed": "false"
   },
   "source": [
    "my plan regarding key expansion \n",
    "a method name keyexpansion is there in which i would supply the original given key \n",
    "which will operate over the given key and the generate the subsequent key and return a list conatining the all rounds key in it"
   ]
  },
  {
   "cell_type": "code",
   "execution_count": 31,
   "metadata": {
    "Collapsed": "false"
   },
   "outputs": [
    {
     "data": {
      "text/plain": [
       "array([ 0, 10, 20, 30])"
      ]
     },
     "execution_count": 31,
     "metadata": {},
     "output_type": "execute_result"
    }
   ],
   "source": [
    "np.arange(0, 40, 10)  #these are matrix with one dimension only and its shape is (4,)"
   ]
  },
  {
   "cell_type": "code",
   "execution_count": 32,
   "metadata": {
    "Collapsed": "false"
   },
   "outputs": [
    {
     "data": {
      "text/plain": [
       "(4,)"
      ]
     },
     "execution_count": 32,
     "metadata": {},
     "output_type": "execute_result"
    }
   ],
   "source": [
    "np.arange(0, 40, 10).shape"
   ]
  },
  {
   "cell_type": "code",
   "execution_count": 33,
   "metadata": {
    "Collapsed": "false"
   },
   "outputs": [
    {
     "data": {
      "text/plain": [
       "(1, 4, 4)"
      ]
     },
     "execution_count": 33,
     "metadata": {},
     "output_type": "execute_result"
    }
   ],
   "source": [
    "hs.shape"
   ]
  },
  {
   "cell_type": "code",
   "execution_count": 34,
   "metadata": {
    "Collapsed": "false"
   },
   "outputs": [
    {
     "data": {
      "text/plain": [
       "array([ 0, 10, 20, 30])"
      ]
     },
     "execution_count": 34,
     "metadata": {},
     "output_type": "execute_result"
    }
   ],
   "source": [
    "np.array([ 0, 10, 20, 30])"
   ]
  },
  {
   "cell_type": "code",
   "execution_count": 35,
   "metadata": {
    "Collapsed": "false"
   },
   "outputs": [
    {
     "name": "stdout",
     "output_type": "stream",
     "text": [
      "[[[104 111  48  48]\n",
      "  [101  48  48  48]\n",
      "  [108  48  48  48]\n",
      "  [108  48  48  48]]]\n"
     ]
    }
   ],
   "source": [
    "print(original_key)"
   ]
  },
  {
   "cell_type": "code",
   "execution_count": 36,
   "metadata": {
    "Collapsed": "false"
   },
   "outputs": [
    {
     "data": {
      "text/plain": [
       "array([[[104, 111,  48,  48],\n",
       "        [101,  48,  48,  48],\n",
       "        [108,  48,  48,  48],\n",
       "        [108,  48,  48,  48]],\n",
       "\n",
       "       [[  0,   0,   0,   0],\n",
       "        [  0,   0,   0,   0],\n",
       "        [  0,   0,   0,   0],\n",
       "        [  0,   0,   0,   0]]], dtype=uint8)"
      ]
     },
     "execution_count": 36,
     "metadata": {},
     "output_type": "execute_result"
    }
   ],
   "source": [
    "np.append(original_key,np.zeros(original_key.shape,dtype=np.uint8),axis=0)"
   ]
  },
  {
   "cell_type": "code",
   "execution_count": 37,
   "metadata": {
    "Collapsed": "false"
   },
   "outputs": [
    {
     "data": {
      "text/plain": [
       "array([[[104, 111,  48,  48],\n",
       "        [101,  48,  48,  48],\n",
       "        [108,  48,  48,  48],\n",
       "        [108,  48,  48,  48]]], dtype=uint8)"
      ]
     },
     "execution_count": 37,
     "metadata": {},
     "output_type": "execute_result"
    }
   ],
   "source": [
    "original_key"
   ]
  },
  {
   "cell_type": "markdown",
   "metadata": {
    "Collapsed": "false"
   },
   "source": [
    "### key_expansion final function "
   ]
  },
  {
   "cell_type": "code",
   "execution_count": 38,
   "metadata": {
    "Collapsed": "false"
   },
   "outputs": [],
   "source": [
    "def keyexpansion(key):\n",
    "    \n",
    "    for index in range(1,11):\n",
    "        key= np.append(key,np.zeros((1,4,4),dtype=np.uint8),axis=0)\n",
    "        key[index,:,0]= (key[index-1,:,0].reshape(4,1)^(byte_substitution(rotkey(key[index-1,:,3]))^round_constant(index))).reshape(4)\n",
    "        key[index,:,1]= key[index,:,0]^key[index-1,:,1]\n",
    "        key[index,:,2]= key[index,:,1]^key[index-1,:,2]\n",
    "        key[index,:,3]= key[index,:,2]^key[index-1,:,3]\n",
    "    \n",
    "    return key\n",
    "                    # returning the value here is kind of necessity because we can't use np.append inside a function as it wouldn't \n",
    "                    # change the actual passed array beacause we are assigning a new array reference to another object which is \"key\" \n",
    "                    # in this case whereas if we apply np.insert then it do make the changes because it change the actual passed array\n",
    "                    # reference."
   ]
  },
  {
   "cell_type": "code",
   "execution_count": 39,
   "metadata": {
    "Collapsed": "false"
   },
   "outputs": [],
   "source": [
    "expanded_key= keyexpansion(np.copy(original_key))"
   ]
  },
  {
   "cell_type": "code",
   "execution_count": 40,
   "metadata": {
    "Collapsed": "false"
   },
   "outputs": [
    {
     "data": {
      "text/plain": [
       "array([[[104, 111,  48,  48],\n",
       "        [101,  48,  48,  48],\n",
       "        [108,  48,  48,  48],\n",
       "        [108,  48,  48,  48]],\n",
       "\n",
       "       [[109,   2,  50,   2],\n",
       "        [ 97,  81,  97,  81],\n",
       "        [104,  88, 104,  88],\n",
       "        [104,  88, 104,  88]],\n",
       "\n",
       "       [[190, 188, 142, 140],\n",
       "        [ 11,  90,  59, 106],\n",
       "        [  2,  90,  50, 106],\n",
       "        [ 31,  71,  47, 119]],\n",
       "\n",
       "       [[184,   4, 138,   6],\n",
       "        [  9,  83, 104,   2],\n",
       "        [247, 173, 159, 245],\n",
       "        [123,  60,  19, 100]],\n",
       "\n",
       "       [[199, 195,  73,  79],\n",
       "        [239, 188, 212, 214],\n",
       "        [180,  25, 134, 115],\n",
       "        [ 20,  40,  59,  95]],\n",
       "\n",
       "       [[ 33, 226, 171, 228],\n",
       "        [ 96, 220,   8, 222],\n",
       "        [123,  98, 228, 151],\n",
       "        [144, 184, 131, 220]],\n",
       "\n",
       "       [[ 28, 254,  85, 177],\n",
       "        [232,  52,  60, 226],\n",
       "        [253, 159, 123, 236],\n",
       "        [249,  65, 194,  30]],\n",
       "\n",
       "       [[196,  58, 111, 222],\n",
       "        [ 38,  18,  46, 204],\n",
       "        [143,  16, 107, 135],\n",
       "        [ 49, 112, 178, 172]],\n",
       "\n",
       "       [[ 15,  53,  90, 132],\n",
       "        [ 49,  35,  13, 193],\n",
       "        [ 30,  14, 101, 226],\n",
       "        [ 44,  92, 238,  66]],\n",
       "\n",
       "       [[108,  89,   3, 135],\n",
       "        [169, 138, 135,  70],\n",
       "        [ 50,  60,  89, 187],\n",
       "        [115,  47, 193, 131]],\n",
       "\n",
       "       [[  0,  89,  90, 221],\n",
       "        [ 67, 201,  78,   8],\n",
       "        [222, 226, 187,   0],\n",
       "        [100,  75, 138,   9]]], dtype=uint8)"
      ]
     },
     "execution_count": 40,
     "metadata": {},
     "output_type": "execute_result"
    }
   ],
   "source": [
    "expanded_key"
   ]
  },
  {
   "cell_type": "code",
   "execution_count": 41,
   "metadata": {
    "Collapsed": "false"
   },
   "outputs": [
    {
     "data": {
      "text/plain": [
       "(11, 4, 4)"
      ]
     },
     "execution_count": 41,
     "metadata": {},
     "output_type": "execute_result"
    }
   ],
   "source": [
    "expanded_key.shape"
   ]
  },
  {
   "cell_type": "markdown",
   "metadata": {
    "Collapsed": "false"
   },
   "source": [
    "## code for shiftrows method along rows starts from here"
   ]
  },
  {
   "cell_type": "code",
   "execution_count": 42,
   "metadata": {
    "Collapsed": "false"
   },
   "outputs": [],
   "source": [
    "def shiftrows(element):\n",
    "    temp= element[1,0]; element[1,0:3]= element[1,1:4]; element[1,3]= temp\n",
    "    temp= element[2,0:2].copy(); element[2,0:2]= element[2,2:4]; element[2,2:4]= temp\n",
    "    temp= element[3,3]; element[3,1:4]= element[3,0:3]; element[3,0]= temp\n",
    "    #(element[2,0:2],element[2,2:4])= (element[2,2:4].copy(),element[2,0:2])\n",
    "    #(element[3,1:4],element[3,0])= (element[3,0:3],element[3,3])\n",
    "    \n",
    "\n",
    "\n",
    "    "
   ]
  },
  {
   "cell_type": "raw",
   "metadata": {
    "Collapsed": "false"
   },
   "source": [
    "def shiftrows(element):\n",
    "    temp= element[1,0]; element[1,0:3]= element[1,1:4]; element[1,3]= temp\n",
    "    #temp= element[2,0:2].copy(); element[2,0:2]= element[2,2:4]; element[2,2:4]= temp\n",
    "    #temp= element[3,3]; element[3,1:4]= element[3,0:3]; element[3,0]= temp\n",
    "    (element[2,0:2],element[2,2:4])= (np.copy(element[2,2:4]),element[2,0:2])\n",
    "    (element[3,1:4],element[3,0])= (element[3,0:3],element[3,3])\n",
    "    \n",
    "    \n",
    "this is not working, unable to figure out, why is it so?"
   ]
  },
  {
   "cell_type": "code",
   "execution_count": 43,
   "metadata": {
    "Collapsed": "false"
   },
   "outputs": [],
   "source": [
    "gh=np.copy(original_key)"
   ]
  },
  {
   "cell_type": "code",
   "execution_count": 44,
   "metadata": {
    "Collapsed": "false"
   },
   "outputs": [],
   "source": [
    "for i in gh:\n",
    "    shiftrows(i)"
   ]
  },
  {
   "cell_type": "code",
   "execution_count": 45,
   "metadata": {
    "Collapsed": "false"
   },
   "outputs": [
    {
     "name": "stdout",
     "output_type": "stream",
     "text": [
      "[[[104 111  48  48]\n",
      "  [101  48  48  48]\n",
      "  [108  48  48  48]\n",
      "  [108  48  48  48]]]\n"
     ]
    }
   ],
   "source": [
    "print(original_key)"
   ]
  },
  {
   "cell_type": "code",
   "execution_count": 46,
   "metadata": {
    "Collapsed": "false"
   },
   "outputs": [
    {
     "name": "stdout",
     "output_type": "stream",
     "text": [
      "[[[104 111  48  48]\n",
      "  [ 48  48  48 101]\n",
      "  [ 48  48 108  48]\n",
      "  [ 48 108  48  48]]]\n"
     ]
    }
   ],
   "source": [
    "print(gh)"
   ]
  },
  {
   "cell_type": "markdown",
   "metadata": {
    "Collapsed": "false"
   },
   "source": [
    "### code for mix-columns() transformation starts from here"
   ]
  },
  {
   "cell_type": "code",
   "execution_count": 47,
   "metadata": {
    "Collapsed": "false"
   },
   "outputs": [],
   "source": [
    "mixcolumn_const=np.array([2,3,1,1,1,2,3,1,1,1,2,3,3,1,1,2])\n",
    "mixcolumn_const=np.reshape(mixcolumn_const,(4,4))"
   ]
  },
  {
   "cell_type": "code",
   "execution_count": 48,
   "metadata": {
    "Collapsed": "false"
   },
   "outputs": [
    {
     "name": "stdout",
     "output_type": "stream",
     "text": [
      "[[2 3 1 1]\n",
      " [1 2 3 1]\n",
      " [1 1 2 3]\n",
      " [3 1 1 2]]\n"
     ]
    }
   ],
   "source": [
    "print(mixcolumn_const)"
   ]
  },
  {
   "cell_type": "markdown",
   "metadata": {
    "Collapsed": "false"
   },
   "source": [
    "### a bit wrong way of developing mix column transformation"
   ]
  },
  {
   "cell_type": "code",
   "execution_count": 49,
   "metadata": {
    "Collapsed": "false"
   },
   "outputs": [],
   "source": [
    "def mix_columns(metrix):\n",
    "                               # only the 2-D array which has to be transformed should be passed as matrix\n",
    "    for i in range(4):\n",
    "        metrix[:,i]=mixcolumn_const.dot(metrix[:,i])\n",
    "    \n",
    "                               # use the word metrix instead of matrix because there is already a thing called matrix in python"
   ]
  },
  {
   "cell_type": "code",
   "execution_count": 50,
   "metadata": {
    "Collapsed": "false"
   },
   "outputs": [],
   "source": [
    "gh=original_key.copy()[0]\n",
    "mix_columns(gh)"
   ]
  },
  {
   "cell_type": "code",
   "execution_count": 51,
   "metadata": {
    "Collapsed": "false"
   },
   "outputs": [
    {
     "name": "stdout",
     "output_type": "stream",
     "text": [
      "[[215 206  80  80]\n",
      " [226 143  80  80]\n",
      " [233 143  80  80]\n",
      " [225  13  80  80]] \n",
      "\n",
      " [727 738 745 737]\n"
     ]
    }
   ],
   "source": [
    "print(gh,\"\\n\\n\",mixcolumn_const.dot(original_key[0,:,0]))"
   ]
  },
  {
   "cell_type": "raw",
   "metadata": {
    "Collapsed": "false"
   },
   "source": [
    "see that in the above output we get two different outputs even for the first column of the 'gh' matrix which is because we have \n",
    "use to dtype as 'np.uint8' and which is of 8 bit only and hence can't represent number greater than 256 therefore we get different\n",
    "output than the desired one, also logically this operation of multiplication should support the addition and multiplication of \n",
    "elements in matrix under galois field (2^8) so that is also incorrect in this way too.\n",
    "\n",
    "so we have to design a new multiplication function that should work for that kind of matrix multiplication"
   ]
  },
  {
   "cell_type": "code",
   "execution_count": 52,
   "metadata": {
    "Collapsed": "false"
   },
   "outputs": [
    {
     "name": "stdout",
     "output_type": "stream",
     "text": [
      "[[215 206  80  80]\n",
      " [226 143  80  80]\n",
      " [233 143  80  80]\n",
      " [225  13  80  80]]\n"
     ]
    }
   ],
   "source": [
    "print(gh)"
   ]
  },
  {
   "cell_type": "markdown",
   "metadata": {
    "Collapsed": "false"
   },
   "source": [
    "### correct implimentation of mix_column transformation with different method name"
   ]
  },
  {
   "cell_type": "code",
   "execution_count": 53,
   "metadata": {
    "Collapsed": "false"
   },
   "outputs": [],
   "source": [
    "\n",
    "def multiplication_for_matrix(X,Y):\n",
    "    # iterate through rows of X\n",
    "    rough= np.zeros((len(X),len(Y[0])),dtype= np.uint8)\n",
    "    for i in range(len(X)):\n",
    "        # iterate through columns of Y\n",
    "        for j in range(len(Y[0])):\n",
    "            # iterate through rows of Y\n",
    "            for k in range(len(Y)):\n",
    "                if X[i,k]==2:\n",
    "                    rough[i,j] = rough[i,j]^lefShift_xor(Y[k,j])\n",
    "                if X[i,k]== 3:\n",
    "                    rough[i,j] = rough[i,j]^(lefShift_xor(Y[k,j])^Y[k,j])\n",
    "                if X[i,k]== 1:\n",
    "                    rough[i,j] = rough[i,j]^Y[k,j]\n",
    "                    \n",
    "    Y[:,:]=rough[:,:]\n",
    "                "
   ]
  },
  {
   "cell_type": "code",
   "execution_count": 54,
   "metadata": {
    "Collapsed": "false"
   },
   "outputs": [],
   "source": [
    "gh=np.copy(original_key)"
   ]
  },
  {
   "cell_type": "code",
   "execution_count": 55,
   "metadata": {
    "Collapsed": "false"
   },
   "outputs": [],
   "source": [
    "multiplication_for_matrix(mixcolumn_const,gh[0])"
   ]
  },
  {
   "cell_type": "code",
   "execution_count": 56,
   "metadata": {
    "Collapsed": "false"
   },
   "outputs": [
    {
     "name": "stdout",
     "output_type": "stream",
     "text": [
      "[[[127 149  48  48]\n",
      "  [122 111  48  48]\n",
      "  [ 97 111  48  48]\n",
      "  [105 202  48  48]]]\n"
     ]
    }
   ],
   "source": [
    "print(gh)"
   ]
  },
  {
   "cell_type": "code",
   "execution_count": 57,
   "metadata": {
    "Collapsed": "false"
   },
   "outputs": [
    {
     "name": "stdout",
     "output_type": "stream",
     "text": [
      "[[[104 111  48  48]\n",
      "  [101  48  48  48]\n",
      "  [108  48  48  48]\n",
      "  [108  48  48  48]]]\n"
     ]
    }
   ],
   "source": [
    "print(original_key)"
   ]
  },
  {
   "cell_type": "raw",
   "metadata": {
    "Collapsed": "false"
   },
   "source": [
    "don't know whether the above output is correct or not should be verified before proceeding"
   ]
  },
  {
   "cell_type": "markdown",
   "metadata": {
    "Collapsed": "false"
   },
   "source": [
    "### add round key code from here"
   ]
  },
  {
   "cell_type": "code",
   "execution_count": 58,
   "metadata": {
    "Collapsed": "false"
   },
   "outputs": [],
   "source": [
    "def add_round_key(cipher,round_no):\n",
    "    cipher[:,:]= cipher[:,:]^expanded_key[round_no,:,:]\n",
    "    "
   ]
  },
  {
   "cell_type": "code",
   "execution_count": 59,
   "metadata": {
    "Collapsed": "false"
   },
   "outputs": [
    {
     "name": "stdout",
     "output_type": "stream",
     "text": [
      "[[105 115 101 100]\n",
      " [ 32  32  97  32]\n",
      " [104  99 116 102]\n",
      " [ 97 114 101 111]]\n"
     ]
    }
   ],
   "source": [
    "print(state_array[2])"
   ]
  },
  {
   "cell_type": "code",
   "execution_count": 60,
   "metadata": {
    "Collapsed": "false"
   },
   "outputs": [],
   "source": [
    "add_round_key(state_array[2],5)"
   ]
  },
  {
   "cell_type": "code",
   "execution_count": 61,
   "metadata": {
    "Collapsed": "false"
   },
   "outputs": [
    {
     "name": "stdout",
     "output_type": "stream",
     "text": [
      "[[ 72 145 206 128]\n",
      " [ 64 252 105 254]\n",
      " [ 19   1 144 241]\n",
      " [241 202 230 179]]\n"
     ]
    }
   ],
   "source": [
    "print(state_array[2])  # otuput after adding the round key, here adding the roundkey for round 5"
   ]
  },
  {
   "cell_type": "markdown",
   "metadata": {
    "Collapsed": "false"
   },
   "source": [
    "## final encryption algorithm starts from here"
   ]
  },
  {
   "cell_type": "raw",
   "metadata": {
    "Collapsed": "false"
   },
   "source": [
    "# don't run these here as it is only written for vscode code of aes and would generate error if run here\n",
    "\n",
    "# only the block of cipher should be passed that need to be ecrypted and not the whole cipher,containing all the blocks of the cipher\n",
    "def final_encryption(cipher_input):\n",
    "  add_round_key(cipher_input,0)\n",
    "                                 # this has been done because 0 round_key should be added before any processing of the input cipher\n",
    "  for round_number in range(1,10):\n",
    "    cipher_input= byte_substitution(cipher_input)\n",
    "    shiftrows(cipher_input)\n",
    "    multiplication_for_matrix(mixcolumn_const,cipher_input)\n",
    "    add_round_key(cipher_input,round_number)\n",
    "\n",
    "                                # above is the process for the round 1 to round 9\n",
    "\n",
    "  cipher_input= byte_substitution(cipher_input)\n",
    "  shiftrows(cipher_input)\n",
    "  add_round_key(cipher_input,10)\n",
    "\n",
    "                                # above is the process for the round 10 only\n",
    "\n",
    "  return cipher_input"
   ]
  },
  {
   "cell_type": "raw",
   "metadata": {
    "Collapsed": "false"
   },
   "source": [
    "# code for creation of state array and performing encryption on all blocks of the cipher created\n",
    "def creation_everything():\n",
    "  filename= input(\"enter the name of the file with path that need to be encrypted\")\n",
    "  encryption_key= input(\"enter the name of the key file with path that need to encrypt the file, max length of file is 16 characters\")\n",
    "  state_array= input_text(filename)\n",
    "  original_key= input_text_key('encryption_key')\n",
    "  expanded_key= keyexpansion(np.copy(original_key))\n",
    "  state_array_out= np.zeros(state_array.shape,dtype=np.uint8)\n",
    "\n",
    "                                       # all the above variables has been marked as global because they need to be available in other functions too\n",
    "\n",
    "  for index,block in enumerate(state_array):\n",
    "    state_array_out[index]= final_encryption(np.copy(block))\n"
   ]
  },
  {
   "cell_type": "code",
   "execution_count": 62,
   "metadata": {
    "Collapsed": "false"
   },
   "outputs": [
    {
     "data": {
      "text/plain": [
       "'0'"
      ]
     },
     "execution_count": 62,
     "metadata": {},
     "output_type": "execute_result"
    }
   ],
   "source": [
    "chr(48)"
   ]
  },
  {
   "cell_type": "code",
   "execution_count": null,
   "metadata": {
    "Collapsed": "false"
   },
   "outputs": [],
   "source": []
  },
  {
   "cell_type": "markdown",
   "metadata": {
    "Collapsed": "false"
   },
   "source": [
    "### way to get the text converted output of a uint8 dtype numpy array"
   ]
  },
  {
   "cell_type": "code",
   "execution_count": 63,
   "metadata": {
    "Collapsed": "false"
   },
   "outputs": [
    {
     "data": {
      "text/plain": [
       "array([[['1', ' ', 's', ' '],\n",
       "        ['2', 'T', ' ', 't'],\n",
       "        ['3', 'h', 'i', 'h'],\n",
       "        ['4', 'i', 's', 'e']],\n",
       "\n",
       "       [[' ', 't', 'l', 'h'],\n",
       "        ['t', ' ', 'e', 'a'],\n",
       "        ['e', 'f', ' ', 't'],\n",
       "        ['x', 'i', 't', ' ']],\n",
       "\n",
       "       [['H', '\\x91', 'Î', '\\x80'],\n",
       "        ['@', 'ü', 'i', 'þ'],\n",
       "        ['\\x13', '\\x01', '\\x90', 'ñ'],\n",
       "        ['ñ', 'Ê', 'æ', '³']],\n",
       "\n",
       "       [['r', 's', 'g', 'e'],\n",
       "        [' ', 't', ' ', ' '],\n",
       "        ['t', 'i', 't', 'i'],\n",
       "        ['e', 'n', 'h', ' ']],\n",
       "\n",
       "       [['c', 'e', 'o', 'u'],\n",
       "        ['o', 'p', 'f', 'm'],\n",
       "        ['n', 't', ' ', 'p'],\n",
       "        ['c', ' ', 'n', 'y']],\n",
       "\n",
       "       [[' ', 'i', 'n', 'n'],\n",
       "        ['s', 't', 'g', 'd'],\n",
       "        ['p', 't', ' ', ' '],\n",
       "        ['l', 'i', 'a', 't']],\n",
       "\n",
       "       [['o', 'k', 'p', 'e'],\n",
       "        [' ', 'e', 'r', 's'],\n",
       "        ['m', ' ', 'o', 's'],\n",
       "        ['a', '\\n', 'c', ' ']],\n",
       "\n",
       "       [['o', 'r', 'i', 't'],\n",
       "        ['f', 'e', 'n', 'h'],\n",
       "        [' ', 'a', 'g', 'e'],\n",
       "        ['c', 't', ' ', ' ']],\n",
       "\n",
       "       [['s', 'e', 'r', 'e'],\n",
       "        ['t', ' ', 'a', 'a'],\n",
       "        ['a', 'a', 'y', 's'],\n",
       "        ['t', 'r', ' ', 'y']],\n",
       "\n",
       "       [[' ', 'A', 'i', 'e'],\n",
       "        ['i', 'e', 'm', 'm'],\n",
       "        ['n', 's', 'p', 'e'],\n",
       "        [' ', ' ', 'l', 'n']],\n",
       "\n",
       "       [['t', 'o', 'r', 'c'],\n",
       "        ['a', 'n', 'o', 't'],\n",
       "        ['t', ' ', 'j', ' '],\n",
       "        ['i', 'p', 'e', 'w']],\n",
       "\n",
       "       [['i', 'p', 'o', ''],\n",
       "        ['t', 'y', 'n', ''],\n",
       "        ['h', 't', '\\n', ''],\n",
       "        [' ', 'h', '', '']]], dtype='<U1')"
      ]
     },
     "execution_count": 63,
     "metadata": {},
     "output_type": "execute_result"
    }
   ],
   "source": [
    "character_conversion=np.vectorize(chr)\n",
    "character_conversion(state_array)\n",
    "# the output is looked like this because in one of the above cell i have add the round key to the state array"
   ]
  },
  {
   "cell_type": "markdown",
   "metadata": {
    "Collapsed": "false"
   },
   "source": [
    "## code to create a new version of shiftrows to let it depends upon 'Nb'"
   ]
  },
  {
   "cell_type": "code",
   "execution_count": 64,
   "metadata": {
    "Collapsed": "false"
   },
   "outputs": [],
   "source": [
    "Nb=Nk=4                         # here Nb is the number of columns(32 bit words) in the state arrary and Nk is the number of columns\n",
    "                                # (32 bit words) in key array, Nk could be 4,6,8 but for this case it is 4\n",
    "\n",
    "Nr=10                           # Nr is the number of rounds which is a funciton of Nk and Nb (which is fixed). for this standard Nr = 10\n",
    "shift = lambda r,Nb: (1 if r== 1 else (2 if r == 2 else (3 if r== 3 else (0 if r==0 else None)))) if Nb == 4 else None\n",
    "def shiftrows1(element):\n",
    "    temp = np.zeros(element.shape,dtype=np.uint8)\n",
    "    for r in range(4):\n",
    "        for j in range(Nb):\n",
    "            temp[r,(Nb-shift(r,Nb)+j)%Nb]= element[r,j]\n",
    "    element=np.copy(temp)\n",
    "    return element"
   ]
  },
  {
   "cell_type": "code",
   "execution_count": 65,
   "metadata": {
    "Collapsed": "false"
   },
   "outputs": [
    {
     "name": "stdout",
     "output_type": "stream",
     "text": [
      "[[ 49  32 115  32]\n",
      " [ 50  84  32 116]\n",
      " [ 51 104 105 104]\n",
      " [ 52 105 115 101]]\n"
     ]
    }
   ],
   "source": [
    "print(state_array[0])"
   ]
  },
  {
   "cell_type": "code",
   "execution_count": 66,
   "metadata": {
    "Collapsed": "false"
   },
   "outputs": [
    {
     "name": "stderr",
     "output_type": "stream",
     "text": [
      "/home/bhanu/anaconda3/lib/python3.7/site-packages/IPython/core/magics/basic.py:372: UserWarning: Error changing user exception modes.\n",
      "Unrecognized mode in FormattedTB: <Verbose  # to set the debugging mode to verbose>\n",
      "Valid modes: ['Plain', 'Context', 'Verbose', 'Minimal']\n",
      "  (name,sys.exc_info()[1]))\n"
     ]
    }
   ],
   "source": [
    "%xmode Verbose  # to set the debugging mode to verbose"
   ]
  },
  {
   "cell_type": "code",
   "execution_count": 67,
   "metadata": {
    "Collapsed": "false"
   },
   "outputs": [
    {
     "name": "stdout",
     "output_type": "stream",
     "text": [
      "[[ 49  32 115  32]\n",
      " [ 84  32 116  50]\n",
      " [105 104  51 104]\n",
      " [101  52 105 115]]\n"
     ]
    }
   ],
   "source": [
    "print(shiftrows1(np.copy(state_array[0])))"
   ]
  },
  {
   "cell_type": "markdown",
   "metadata": {
    "Collapsed": "false"
   },
   "source": [
    "## testing the ways to write these arrays to files"
   ]
  },
  {
   "cell_type": "code",
   "execution_count": 68,
   "metadata": {
    "Collapsed": "false"
   },
   "outputs": [
    {
     "name": "stdout",
     "output_type": "stream",
     "text": [
      "10\n"
     ]
    }
   ],
   "source": [
    "print(ord('\\n'))"
   ]
  },
  {
   "cell_type": "code",
   "execution_count": 69,
   "metadata": {
    "Collapsed": "false"
   },
   "outputs": [
    {
     "name": "stdout",
     "output_type": "stream",
     "text": [
      "this is my name  \n",
      " my name is bhanu\n"
     ]
    }
   ],
   "source": [
    "print(\"this is my name \",chr(10),\"my name is bhanu\")"
   ]
  },
  {
   "cell_type": "code",
   "execution_count": 70,
   "metadata": {
    "Collapsed": "false"
   },
   "outputs": [
    {
     "data": {
      "text/plain": [
       "'\\n'"
      ]
     },
     "execution_count": 70,
     "metadata": {},
     "output_type": "execute_result"
    }
   ],
   "source": [
    "chr(10)"
   ]
  },
  {
   "cell_type": "code",
   "execution_count": 71,
   "metadata": {
    "Collapsed": "false"
   },
   "outputs": [
    {
     "name": "stdout",
     "output_type": "stream",
     "text": [
      "\n",
      "this is something \n",
      " my name is bhanu\n"
     ]
    }
   ],
   "source": [
    "print('\\nthis is something',chr(10),\"my name is bhanu\")"
   ]
  },
  {
   "cell_type": "code",
   "execution_count": 72,
   "metadata": {
    "Collapsed": "false"
   },
   "outputs": [],
   "source": [
    "bh=\"this is my name \\n and this is my name\"+chr(10)+\"name is here\""
   ]
  },
  {
   "cell_type": "code",
   "execution_count": 73,
   "metadata": {
    "Collapsed": "false"
   },
   "outputs": [
    {
     "name": "stdout",
     "output_type": "stream",
     "text": [
      "this is my name \n",
      " and this is my name\n",
      "name is here\n"
     ]
    }
   ],
   "source": [
    "print(bh)"
   ]
  },
  {
   "cell_type": "code",
   "execution_count": 74,
   "metadata": {
    "Collapsed": "false"
   },
   "outputs": [
    {
     "data": {
      "text/plain": [
       "'♞'"
      ]
     },
     "execution_count": 74,
     "metadata": {},
     "output_type": "execute_result"
    }
   ],
   "source": [
    "chr(9822)"
   ]
  },
  {
   "cell_type": "code",
   "execution_count": 75,
   "metadata": {
    "Collapsed": "false"
   },
   "outputs": [
    {
     "data": {
      "text/plain": [
       "'9822'"
      ]
     },
     "execution_count": 75,
     "metadata": {},
     "output_type": "execute_result"
    }
   ],
   "source": [
    "str(9822)"
   ]
  },
  {
   "cell_type": "code",
   "execution_count": 76,
   "metadata": {
    "Collapsed": "false"
   },
   "outputs": [],
   "source": [
    "import numpy as np"
   ]
  },
  {
   "cell_type": "code",
   "execution_count": 77,
   "metadata": {
    "Collapsed": "false"
   },
   "outputs": [],
   "source": [
    "# Create a Numpy array from list of numbers\n",
    "arr = np.array([6, 1, 4, 2, 18, 9, 3, 4,9822, 2, 8, 11])"
   ]
  },
  {
   "cell_type": "code",
   "execution_count": 78,
   "metadata": {
    "Collapsed": "false"
   },
   "outputs": [
    {
     "data": {
      "text/plain": [
       "dtype('int64')"
      ]
     },
     "execution_count": 78,
     "metadata": {},
     "output_type": "execute_result"
    }
   ],
   "source": [
    "arr.dtype"
   ]
  },
  {
   "cell_type": "code",
   "execution_count": 79,
   "metadata": {
    "Collapsed": "false"
   },
   "outputs": [],
   "source": [
    "# Save Numpy array to csv\n",
    "np.savetxt('output_demo.txt', [arr], delimiter='', fmt='%s')"
   ]
  },
  {
   "cell_type": "code",
   "execution_count": 80,
   "metadata": {
    "Collapsed": "false"
   },
   "outputs": [
    {
     "data": {
      "text/plain": [
       "array([[[54, 49, 52, 50],\n",
       "        [49, 56, 57, 50],\n",
       "        [52, 57, 56, 56],\n",
       "        [50, 51, 50, 49]],\n",
       "\n",
       "       [[49,  0,  0,  0],\n",
       "        [10,  0,  0,  0],\n",
       "        [ 0,  0,  0,  0],\n",
       "        [ 0,  0,  0,  0]]], dtype=uint8)"
      ]
     },
     "execution_count": 80,
     "metadata": {},
     "output_type": "execute_result"
    }
   ],
   "source": [
    "input_text('output_demo.txt')"
   ]
  },
  {
   "cell_type": "code",
   "execution_count": 81,
   "metadata": {
    "Collapsed": "false"
   },
   "outputs": [
    {
     "data": {
      "text/plain": [
       "<numpy.vectorize at 0x7f25dc825450>"
      ]
     },
     "execution_count": 81,
     "metadata": {},
     "output_type": "execute_result"
    }
   ],
   "source": [
    "np.vectorize(chr)"
   ]
  },
  {
   "cell_type": "code",
   "execution_count": 82,
   "metadata": {
    "Collapsed": "false"
   },
   "outputs": [
    {
     "data": {
      "text/plain": [
       "array(['1', '2', '3', '4', ' ', 'T', 'h', 'i', 's', ' ', 'i', 's', ' ',\n",
       "       't', 'h', 'e'], dtype='<U1')"
      ]
     },
     "execution_count": 82,
     "metadata": {},
     "output_type": "execute_result"
    }
   ],
   "source": [
    "np.ravel(character_conversion(state_array)[0],order='F')"
   ]
  },
  {
   "cell_type": "code",
   "execution_count": 83,
   "metadata": {
    "Collapsed": "false"
   },
   "outputs": [
    {
     "data": {
      "text/plain": [
       "'1234 This is the'"
      ]
     },
     "execution_count": 83,
     "metadata": {},
     "output_type": "execute_result"
    }
   ],
   "source": [
    "''.join(np.ravel(character_conversion(state_array)[0],order='F'))"
   ]
  },
  {
   "cell_type": "code",
   "execution_count": 84,
   "metadata": {
    "Collapsed": "false"
   },
   "outputs": [
    {
     "data": {
      "text/plain": [
       "array([[['1', ' ', 's', ' '],\n",
       "        ['2', 'T', ' ', 't'],\n",
       "        ['3', 'h', 'i', 'h'],\n",
       "        ['4', 'i', 's', 'e']],\n",
       "\n",
       "       [[' ', 't', 'l', 'h'],\n",
       "        ['t', ' ', 'e', 'a'],\n",
       "        ['e', 'f', ' ', 't'],\n",
       "        ['x', 'i', 't', ' ']],\n",
       "\n",
       "       [['H', '\\x91', 'Î', '\\x80'],\n",
       "        ['@', 'ü', 'i', 'þ'],\n",
       "        ['\\x13', '\\x01', '\\x90', 'ñ'],\n",
       "        ['ñ', 'Ê', 'æ', '³']],\n",
       "\n",
       "       [['r', 's', 'g', 'e'],\n",
       "        [' ', 't', ' ', ' '],\n",
       "        ['t', 'i', 't', 'i'],\n",
       "        ['e', 'n', 'h', ' ']],\n",
       "\n",
       "       [['c', 'e', 'o', 'u'],\n",
       "        ['o', 'p', 'f', 'm'],\n",
       "        ['n', 't', ' ', 'p'],\n",
       "        ['c', ' ', 'n', 'y']],\n",
       "\n",
       "       [[' ', 'i', 'n', 'n'],\n",
       "        ['s', 't', 'g', 'd'],\n",
       "        ['p', 't', ' ', ' '],\n",
       "        ['l', 'i', 'a', 't']],\n",
       "\n",
       "       [['o', 'k', 'p', 'e'],\n",
       "        [' ', 'e', 'r', 's'],\n",
       "        ['m', ' ', 'o', 's'],\n",
       "        ['a', '\\n', 'c', ' ']],\n",
       "\n",
       "       [['o', 'r', 'i', 't'],\n",
       "        ['f', 'e', 'n', 'h'],\n",
       "        [' ', 'a', 'g', 'e'],\n",
       "        ['c', 't', ' ', ' ']],\n",
       "\n",
       "       [['s', 'e', 'r', 'e'],\n",
       "        ['t', ' ', 'a', 'a'],\n",
       "        ['a', 'a', 'y', 's'],\n",
       "        ['t', 'r', ' ', 'y']],\n",
       "\n",
       "       [[' ', 'A', 'i', 'e'],\n",
       "        ['i', 'e', 'm', 'm'],\n",
       "        ['n', 's', 'p', 'e'],\n",
       "        [' ', ' ', 'l', 'n']],\n",
       "\n",
       "       [['t', 'o', 'r', 'c'],\n",
       "        ['a', 'n', 'o', 't'],\n",
       "        ['t', ' ', 'j', ' '],\n",
       "        ['i', 'p', 'e', 'w']],\n",
       "\n",
       "       [['i', 'p', 'o', ''],\n",
       "        ['t', 'y', 'n', ''],\n",
       "        ['h', 't', '\\n', ''],\n",
       "        [' ', 'h', '', '']]], dtype='<U1')"
      ]
     },
     "execution_count": 84,
     "metadata": {},
     "output_type": "execute_result"
    }
   ],
   "source": [
    "character_conversion(state_array)"
   ]
  },
  {
   "cell_type": "code",
   "execution_count": 102,
   "metadata": {
    "Collapsed": "false"
   },
   "outputs": [
    {
     "name": "stdout",
     "output_type": "stream",
     "text": [
      "187\n"
     ]
    }
   ],
   "source": [
    "h=0\n",
    "with open('output_demo.txt','w',encoding='utf-8') as f:\n",
    "    for i in character_conversion(state_array):\n",
    "        h=h+len(''.join(np.ravel(i,order='F')))\n",
    "        f.write(''.join(np.ravel(i,order='F')))\n",
    "print(h)\n",
    "        "
   ]
  },
  {
   "cell_type": "code",
   "execution_count": 100,
   "metadata": {
    "Collapsed": "false"
   },
   "outputs": [
    {
     "name": "stdout",
     "output_type": "stream",
     "text": [
      "187\n"
     ]
    }
   ],
   "source": [
    "with open('output_demo.txt','r',encoding='utf-8') as f:\n",
    "    print(len(list(f.read())))"
   ]
  },
  {
   "cell_type": "code",
   "execution_count": 115,
   "metadata": {
    "Collapsed": "false"
   },
   "outputs": [],
   "source": [
    "with open('output_demo.txt','r',encoding='utf-8') as f:\n",
    "    hp=map(ord,list(f.read()))"
   ]
  },
  {
   "cell_type": "code",
   "execution_count": 116,
   "metadata": {
    "Collapsed": "false"
   },
   "outputs": [
    {
     "name": "stdout",
     "output_type": "stream",
     "text": [
      "187\n"
     ]
    }
   ],
   "source": [
    "result=list(hp)\n",
    "print(len(result))"
   ]
  },
  {
   "cell_type": "code",
   "execution_count": 118,
   "metadata": {
    "Collapsed": "false"
   },
   "outputs": [
    {
     "name": "stdout",
     "output_type": "stream",
     "text": [
      "[49, 50, 51, 52, 32, 84, 104, 105, 115, 32, 105, 115, 32, 116, 104, 101, 32, 116, 101, 120, 116, 32, 102, 105, 108, 101, 32, 116, 104, 97, 116, 32, 72, 64, 19, 241, 145, 252, 1, 202, 206, 105, 144, 230, 128, 254, 241, 179, 114, 32, 116, 101, 115, 116, 105, 110, 103, 32, 116, 104, 101, 32, 105, 32, 99, 111, 110, 99, 101, 112, 116, 32, 111, 102, 32, 110, 117, 109, 112, 121, 32, 115, 112, 108, 105, 116, 116, 105, 110, 103, 32, 97, 110, 100, 32, 116, 111, 32, 109, 97, 107, 101, 32, 10, 112, 114, 111, 99, 101, 115, 115, 32, 111, 102, 32, 99, 114, 101, 97, 116, 105, 110, 103, 32, 116, 104, 101, 32, 115, 116, 97, 116, 101, 32, 97, 114, 114, 97, 121, 32, 101, 97, 115, 121, 32, 105, 110, 32, 65, 101, 115, 32, 105, 109, 112, 108, 101, 109, 101, 110, 116, 97, 116, 105, 111, 110, 32, 112, 114, 111, 106, 101, 99, 116, 32, 119, 105, 116, 104, 32, 112, 121, 116, 104, 111, 110, 10]\n"
     ]
    }
   ],
   "source": [
    "print(result)\n",
    "# note that after execution of map object once it get empty hence we have to store the result for the first time \n",
    "# itself"
   ]
  },
  {
   "cell_type": "raw",
   "metadata": {
    "Collapsed": "false"
   },
   "source": [
    "the length of 187 shows that both the array are same and i have to adopt this method for the appopriate functioning"
   ]
  },
  {
   "cell_type": "code",
   "execution_count": 119,
   "metadata": {
    "Collapsed": "false"
   },
   "outputs": [],
   "source": [
    "#  doesn't work    np.loadtxt('output_demo.txt',dtype='<U1')"
   ]
  },
  {
   "cell_type": "code",
   "execution_count": 86,
   "metadata": {
    "Collapsed": "false"
   },
   "outputs": [
    {
     "data": {
      "text/plain": [
       "array([[[ 49,  32, 115,  32],\n",
       "        [ 50,  84,  32, 116],\n",
       "        [ 51, 104, 105, 104],\n",
       "        [ 52, 105, 115, 101]],\n",
       "\n",
       "       [[ 32, 116, 108, 104],\n",
       "        [116,  32, 101,  97],\n",
       "        [101, 102,  32, 116],\n",
       "        [120, 105, 116,  32]],\n",
       "\n",
       "       [[ 72, 177, 188, 195],\n",
       "        [ 64, 194,   1, 142],\n",
       "        [ 19, 145, 195, 105],\n",
       "        [195, 195, 138, 194]],\n",
       "\n",
       "       [[144, 128, 177,  32],\n",
       "        [195, 195, 194, 116],\n",
       "        [166, 190, 179, 101],\n",
       "        [194, 195, 114, 115]],\n",
       "\n",
       "       [[116,  32,  32, 111],\n",
       "        [105, 116, 105, 110],\n",
       "        [110, 104,  32,  99],\n",
       "        [103, 101,  99, 101]],\n",
       "\n",
       "       [[112, 102, 109, 115],\n",
       "        [116,  32, 112, 112],\n",
       "        [ 32, 110, 121, 108],\n",
       "        [111, 117,  32, 105]],\n",
       "\n",
       "       [[116, 103, 100,  32],\n",
       "        [116,  32,  32, 109],\n",
       "        [105,  97, 116,  97],\n",
       "        [110, 110, 111, 107]],\n",
       "\n",
       "       [[101, 114, 115, 102],\n",
       "        [ 32, 111, 115,  32],\n",
       "        [ 10,  99,  32,  99],\n",
       "        [112, 101, 111, 114]],\n",
       "\n",
       "       [[101, 110, 104, 116],\n",
       "        [ 97, 103, 101,  97],\n",
       "        [116,  32,  32, 116],\n",
       "        [105, 116, 115, 101]],\n",
       "\n",
       "       [[ 32,  97,  97, 105],\n",
       "        [ 97, 121, 115, 110],\n",
       "        [114,  32, 121,  32],\n",
       "        [114, 101,  32,  65]],\n",
       "\n",
       "       [[101, 109, 109,  97],\n",
       "        [115, 112, 101, 116],\n",
       "        [ 32, 108, 110, 105],\n",
       "        [105, 101, 116, 111]],\n",
       "\n",
       "       [[110, 111, 116, 116],\n",
       "        [ 32, 106,  32, 104],\n",
       "        [112, 101, 119,  32],\n",
       "        [114,  99, 105, 112]],\n",
       "\n",
       "       [[121, 110,   0,   0],\n",
       "        [116,  10,   0,   0],\n",
       "        [104,   0,   0,   0],\n",
       "        [111,   0,   0,   0]]], dtype=uint8)"
      ]
     },
     "execution_count": 86,
     "metadata": {},
     "output_type": "execute_result"
    }
   ],
   "source": [
    "input_text('output_demo.txt')"
   ]
  },
  {
   "cell_type": "code",
   "execution_count": 87,
   "metadata": {
    "Collapsed": "false"
   },
   "outputs": [
    {
     "data": {
      "text/plain": [
       "False"
      ]
     },
     "execution_count": 87,
     "metadata": {},
     "output_type": "execute_result"
    }
   ],
   "source": [
    "np.array_equal(input_text('output_demo.txt'),state_array)"
   ]
  },
  {
   "cell_type": "code",
   "execution_count": 88,
   "metadata": {
    "Collapsed": "false"
   },
   "outputs": [
    {
     "data": {
      "text/plain": [
       "array([[[ 49,  32, 115,  32],\n",
       "        [ 50,  84,  32, 116],\n",
       "        [ 51, 104, 105, 104],\n",
       "        [ 52, 105, 115, 101]],\n",
       "\n",
       "       [[ 32, 116, 108, 104],\n",
       "        [116,  32, 101,  97],\n",
       "        [101, 102,  32, 116],\n",
       "        [120, 105, 116,  32]],\n",
       "\n",
       "       [[ 72, 145, 206, 128],\n",
       "        [ 64, 252, 105, 254],\n",
       "        [ 19,   1, 144, 241],\n",
       "        [241, 202, 230, 179]],\n",
       "\n",
       "       [[114, 115, 103, 101],\n",
       "        [ 32, 116,  32,  32],\n",
       "        [116, 105, 116, 105],\n",
       "        [101, 110, 104,  32]],\n",
       "\n",
       "       [[ 99, 101, 111, 117],\n",
       "        [111, 112, 102, 109],\n",
       "        [110, 116,  32, 112],\n",
       "        [ 99,  32, 110, 121]],\n",
       "\n",
       "       [[ 32, 105, 110, 110],\n",
       "        [115, 116, 103, 100],\n",
       "        [112, 116,  32,  32],\n",
       "        [108, 105,  97, 116]],\n",
       "\n",
       "       [[111, 107, 112, 101],\n",
       "        [ 32, 101, 114, 115],\n",
       "        [109,  32, 111, 115],\n",
       "        [ 97,  10,  99,  32]],\n",
       "\n",
       "       [[111, 114, 105, 116],\n",
       "        [102, 101, 110, 104],\n",
       "        [ 32,  97, 103, 101],\n",
       "        [ 99, 116,  32,  32]],\n",
       "\n",
       "       [[115, 101, 114, 101],\n",
       "        [116,  32,  97,  97],\n",
       "        [ 97,  97, 121, 115],\n",
       "        [116, 114,  32, 121]],\n",
       "\n",
       "       [[ 32,  65, 105, 101],\n",
       "        [105, 101, 109, 109],\n",
       "        [110, 115, 112, 101],\n",
       "        [ 32,  32, 108, 110]],\n",
       "\n",
       "       [[116, 111, 114,  99],\n",
       "        [ 97, 110, 111, 116],\n",
       "        [116,  32, 106,  32],\n",
       "        [105, 112, 101, 119]],\n",
       "\n",
       "       [[105, 112, 111,   0],\n",
       "        [116, 121, 110,   0],\n",
       "        [104, 116,  10,   0],\n",
       "        [ 32, 104,   0,   0]]], dtype=uint8)"
      ]
     },
     "execution_count": 88,
     "metadata": {},
     "output_type": "execute_result"
    }
   ],
   "source": [
    "state_array"
   ]
  },
  {
   "cell_type": "code",
   "execution_count": 89,
   "metadata": {
    "Collapsed": "false"
   },
   "outputs": [
    {
     "data": {
      "text/plain": [
       "241"
      ]
     },
     "execution_count": 89,
     "metadata": {},
     "output_type": "execute_result"
    }
   ],
   "source": [
    "ord('ñ')"
   ]
  },
  {
   "cell_type": "code",
   "execution_count": 90,
   "metadata": {
    "Collapsed": "false"
   },
   "outputs": [
    {
     "data": {
      "text/plain": [
       "19"
      ]
     },
     "execution_count": 90,
     "metadata": {},
     "output_type": "execute_result"
    }
   ],
   "source": [
    "ord('\\x13')"
   ]
  },
  {
   "cell_type": "code",
   "execution_count": 91,
   "metadata": {
    "Collapsed": "false"
   },
   "outputs": [
    {
     "data": {
      "text/plain": [
       "'Ã'"
      ]
     },
     "execution_count": 91,
     "metadata": {},
     "output_type": "execute_result"
    }
   ],
   "source": [
    "chr(195)"
   ]
  },
  {
   "cell_type": "code",
   "execution_count": null,
   "metadata": {
    "Collapsed": "false"
   },
   "outputs": [],
   "source": []
  }
 ],
 "metadata": {
  "kernelspec": {
   "display_name": "Python 3",
   "language": "python",
   "name": "python3"
  },
  "language_info": {
   "codemirror_mode": {
    "name": "ipython",
    "version": 3
   },
   "file_extension": ".py",
   "mimetype": "text/x-python",
   "name": "python",
   "nbconvert_exporter": "python",
   "pygments_lexer": "ipython3",
   "version": "3.7.5"
  },
  "widgets": {
   "application/vnd.jupyter.widget-state+json": {
    "state": {},
    "version_major": 2,
    "version_minor": 0
   }
  }
 },
 "nbformat": 4,
 "nbformat_minor": 4
}
