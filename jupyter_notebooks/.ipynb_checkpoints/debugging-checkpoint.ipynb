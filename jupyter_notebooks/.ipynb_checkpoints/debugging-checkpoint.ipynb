{
 "cells": [
  {
   "cell_type": "code",
   "execution_count": 13,
   "metadata": {
    "Collapsed": "false"
   },
   "outputs": [],
   "source": [
    "import numpy as np\n",
    "import math\n",
    "import Aes_decryption as decryp\n",
    "# To use other file variable use the way mentioned below rather than anyother way else\n",
    "# import file1\n",
    "\n",
    "\n",
    "Nb=Nk=np.uint8(4)                         # here Nb is the number of columns(32 bit words) in the state arrary and Nk is the number of columns\n",
    "                                # (32 bit words) in key array, Nk could be 4,6,8 but for this case it is 4\n",
    "\n",
    "Nr=np.uint8(10)                           # Nr is the number of rounds which is a funciton of Nk and Nb (which is fixed). for this standard Nr = 10\n",
    "\n",
    "mixcolumn_const=np.array([2,3,1,1,1,2,3,1,1,1,2,3,3,1,1,2],dtype=np.uint8)\n",
    "mixcolumn_const=np.reshape(mixcolumn_const,(4,4))\n",
    "\n",
    "rotconst=np.zeros((1,4,4),dtype=np.uint8)\n",
    "for i in range(4):              # this is the loop to conver the 'rotconst' into required rotation matrix \n",
    "    rotconst[0,i,(i+1)%4]=1\n",
    "                                # as the pattern is always 1+i but when it(i+1) reaches the value of 4 it turns to 0 therefore\n",
    "                                # use modulus by 4\n",
    " \n",
    "# Sbox creation for the Gf(2^8)\n",
    "\n",
    "s_box =  np.array([0x63, 0x7c, 0x77, 0x7b, 0xf2, 0x6b, 0x6f, 0xc5, 0x30, 0x01, 0x67,\n",
    "         0x2b, 0xfe, 0xd7, 0xab, 0x76, 0xca, 0x82, 0xc9, 0x7d, 0xfa, 0x59,\n",
    "         0x47, 0xf0, 0xad, 0xd4, 0xa2, 0xaf, 0x9c, 0xa4, 0x72, 0xc0, 0xb7,\n",
    "         0xfd, 0x93, 0x26, 0x36, 0x3f, 0xf7, 0xcc, 0x34, 0xa5, 0xe5, 0xf1,\n",
    "         0x71, 0xd8, 0x31, 0x15, 0x04, 0xc7, 0x23, 0xc3, 0x18, 0x96, 0x05,\n",
    "         0x9a, 0x07, 0x12, 0x80, 0xe2, 0xeb, 0x27, 0xb2, 0x75, 0x09, 0x83,\n",
    "         0x2c, 0x1a, 0x1b, 0x6e, 0x5a, 0xa0, 0x52, 0x3b, 0xd6, 0xb3, 0x29,\n",
    "         0xe3, 0x2f, 0x84, 0x53, 0xd1, 0x00, 0xed, 0x20, 0xfc, 0xb1, 0x5b,\n",
    "         0x6a, 0xcb, 0xbe, 0x39, 0x4a, 0x4c, 0x58, 0xcf, 0xd0, 0xef, 0xaa,\n",
    "         0xfb, 0x43, 0x4d, 0x33, 0x85, 0x45, 0xf9, 0x02, 0x7f, 0x50, 0x3c,\n",
    "         0x9f, 0xa8, 0x51, 0xa3, 0x40, 0x8f, 0x92, 0x9d, 0x38, 0xf5, 0xbc,\n",
    "         0xb6, 0xda, 0x21, 0x10, 0xff, 0xf3, 0xd2, 0xcd, 0x0c, 0x13, 0xec,\n",
    "         0x5f, 0x97, 0x44, 0x17, 0xc4, 0xa7, 0x7e, 0x3d, 0x64, 0x5d, 0x19,\n",
    "         0x73, 0x60, 0x81, 0x4f, 0xdc, 0x22, 0x2a, 0x90, 0x88, 0x46, 0xee,\n",
    "         0xb8, 0x14, 0xde, 0x5e, 0x0b, 0xdb, 0xe0, 0x32, 0x3a, 0x0a, 0x49,\n",
    "         0x06, 0x24, 0x5c, 0xc2, 0xd3, 0xac, 0x62, 0x91, 0x95, 0xe4, 0x79,\n",
    "         0xe7, 0xc8, 0x37, 0x6d, 0x8d, 0xd5, 0x4e, 0xa9, 0x6c, 0x56, 0xf4,\n",
    "         0xea, 0x65, 0x7a, 0xae, 0x08, 0xba, 0x78, 0x25, 0x2e, 0x1c, 0xa6,\n",
    "         0xb4, 0xc6, 0xe8, 0xdd, 0x74, 0x1f, 0x4b, 0xbd, 0x8b, 0x8a, 0x70,\n",
    "         0x3e, 0xb5, 0x66, 0x48, 0x03, 0xf6, 0x0e, 0x61, 0x35, 0x57, 0xb9,\n",
    "         0x86, 0xc1, 0x1d, 0x9e, 0xe1, 0xf8, 0x98, 0x11, 0x69, 0xd9, 0x8e,\n",
    "         0x94, 0x9b, 0x1e, 0x87, 0xe9, 0xce, 0x55, 0x28, 0xdf, 0x8c, 0xa1,\n",
    "         0x89, 0x0d, 0xbf, 0xe6, 0x42, 0x68, 0x41, 0x99, 0x2d, 0x0f, 0xb0,\n",
    "         0x54, 0xbb, 0x16],dtype=np.uint8)\n",
    "                                             # this representation is in hexadecimal format so while printing it, we wil get corresponding integers"
   ]
  },
  {
   "cell_type": "code",
   "execution_count": 14,
   "metadata": {
    "Collapsed": "false"
   },
   "outputs": [],
   "source": [
    "# most of the lambdas and one liner functions are here\n",
    "\n",
    "shift = lambda r,Nb: (1 if r== 1 else (2 if r == 2 else (3 if r== 3 else (0 if r==0 else None)))) if Nb == 4 else None\n",
    "\n",
    "byte_substitution= np.vectorize(lambda index: s_box[index])\n",
    "                                             # a copy of state_array or array for which subtitution is required should be passed in it.\n",
    "\n",
    "# calculating the value of x^i for where x = 2 in decimal and the multiplication is abiding the rules of galois field 2^8\n",
    "lefShift_xor= lambda x : (x<<1) if (x<<1)<=128 else np.uint8(x<<1)^27\n",
    "                                             # this is equivalent to multiply a number here 'x' with 2 in galois field 2^8\n",
    "                                             # here i use np.uint8 because python integer is not of 8-bit and bit shift wouldn't work \n",
    "                                             # correctly and that is it would drop the bit shifted after 8 bits positions"
   ]
  },
  {
   "cell_type": "code",
   "execution_count": 15,
   "metadata": {
    "Collapsed": "false"
   },
   "outputs": [],
   "source": [
    "# methods are all here\n",
    "# comment for any line of code is listed just below that line at a suitable distance\n",
    "\n",
    "def input_text(filename,debug_mode=False,debug_list=None):\n",
    "    \n",
    "    if not debug_mode:\n",
    "        \n",
    "        with open(filename,'r',encoding='utf-8') as f:\n",
    "            result=list(map(ord,f.read()))\n",
    "                                                                            # note that 'map' can work only once, so store it result in a varaiable\n",
    "    else:\n",
    "        result= debug_list\n",
    "        \n",
    "    state_array= np.array(result, dtype=np.uint8)                  \n",
    "                                                                        # store them into utf-8 integer encoding in a variable of 8-bit integer.\n",
    "    \n",
    "    length= len(state_array)\n",
    "    padding= length%16\n",
    "    state_array= np.append(state_array,np.zeros((16-padding)%16).astype(np.uint8)) \n",
    "                                                                        # since we don't adding axis here therefore the values of the \n",
    "                                                                        # added array will be flattened before use and would then be merged. \n",
    "    \n",
    "    state_array= np.array([np.reshape(i,(4,4)).transpose() for i in np.split(state_array,len(state_array)/16)])                        \n",
    "    return state_array                                             \n",
    "         \n",
    "                                                                        # here each element of the 'state_array' will represent a state array \n",
    "                                                                        # for the given text."
   ]
  },
  {
   "cell_type": "code",
   "execution_count": 16,
   "metadata": {
    "Collapsed": "false"
   },
   "outputs": [],
   "source": [
    "def input_text_key(filename, debug_mode=False, debug_list=None):\n",
    "    \n",
    "    if not debug_mode:\n",
    "        with open(filename,'r',encoding='utf-8') as f:\n",
    "            result=list(map(ord,f.read()))\n",
    "                                                                        # note that 'map' can work only once, so store it result in a varaiable\n",
    "    else:\n",
    "        result= debug_list\n",
    "    state_array= np.array(result, dtype=np.uint8)                  \n",
    "                                                                        # store them into utf-8 integer encoding in a variable of 8-bit integer.\n",
    "\n",
    "    length= len(state_array)\n",
    "    if length >= 16:\n",
    "        state_array= state_array[:16]\n",
    "                                                                # here neglecting the rest of the file txt if more than 16 characters\n",
    "    else:\n",
    "        padding= length%16\n",
    "        state_array= np.append(state_array,np.zeros(16-padding).astype(np.uint8))\n",
    "                                                                # here adding the rest of characters as 0 if have less than 16 \n",
    "                                                                # character in the input text key file.              \n",
    "    \n",
    "    state_array= np.array([np.reshape(state_array,(4,4)).transpose()])                        \n",
    "    return state_array                                             \n",
    "                                                                # reshaping the array as a 4x4 matrix and using list to encapsulate it \n",
    "                                                                # into another np.array to have the structure similar to the \n",
    "                                                                # state_array"
   ]
  },
  {
   "cell_type": "code",
   "execution_count": 17,
   "metadata": {
    "Collapsed": "false"
   },
   "outputs": [],
   "source": [
    "def rotkey(roundkey):              # this is the method for applying the left rotation in the given roundkey in total, column wise\n",
    "    return rotconst.dot(roundkey).transpose()  \n",
    "                                   # since the rotconst can be used to left rotate a given matrix element column wise hence we apply\n",
    "                                   # multiplication of the 'roundkey' with rotconst(specifically rotconst with roundkey)\n",
    "\n",
    "\n",
    "def round_constant(i):\n",
    "    roundconstant= 1\n",
    "    for j in range(2,i+1):\n",
    "                                             # use i because while calling the round_constant function, index of the array is used \n",
    "                                             # and which is equal to the round number itself and we want one less than round number as\n",
    "                                             # as per page 19 and 20 article and sudo code given in nist notes of AES\n",
    "        roundconstant= lefShift_xor(roundconstant)\n",
    "        \n",
    "    return np.array([roundconstant,0,0,0]).reshape(4,1)\n",
    "\n",
    "\n",
    "def keyexpansion(key):\n",
    "    \n",
    "    for index in range(1,11):\n",
    "        key= np.append(key,np.zeros((1,4,4),dtype=np.uint8),axis=0)\n",
    "        key[index,:,0]= (key[index-1,:,0].reshape(4,1)^(byte_substitution(rotkey(key[index-1,:,3]))^round_constant(index))).reshape(4)\n",
    "        key[index,:,1]= key[index,:,0]^key[index-1,:,1]\n",
    "        key[index,:,2]= key[index,:,1]^key[index-1,:,2]\n",
    "        key[index,:,3]= key[index,:,2]^key[index-1,:,3]\n",
    "    \n",
    "    return key\n",
    "                    # returning the value here is kind of necessity because we can't use np.append inside a function as it wouldn't \n",
    "                    # change the actual passed array beacause we are assigning a new array reference to another object which is \"key\" \n",
    "                    # in this case whereas if we apply np.insert then it do make the changes because it change the actual passed array\n",
    "                    # reference.\n",
    "\n",
    "def shiftrows(element):\n",
    "    temp = np.zeros(element.shape,dtype=np.uint8)\n",
    "    for r in range(4):\n",
    "        for j in range(Nb):\n",
    "            temp[r,(Nb-shift(r,Nb)+j)%Nb]= element[r,j]\n",
    "    element=np.copy(temp)\n",
    "                    #  don't panic about assignment to value of 'element' reference as it is working absloutely fine, moreover remember that\n",
    "                    # list are immutable and that they are called by reference in functions and not called by value\n",
    "\n",
    "    "
   ]
  },
  {
   "cell_type": "code",
   "execution_count": 18,
   "metadata": {
    "Collapsed": "false"
   },
   "outputs": [],
   "source": [
    "def multiplication_for_matrix(X,Y):\n",
    "    # iterate through rows of X\n",
    "    rough= np.zeros((len(X),len(Y[0])),dtype= np.uint8)\n",
    "    for i in range(len(X)):\n",
    "        # iterate through columns of Y\n",
    "        for j in range(len(Y[0])):\n",
    "            # iterate through rows of Y\n",
    "            for k in range(len(Y)):\n",
    "                if X[i,k]==2:\n",
    "                    rough[i,j] = rough[i,j]^lefShift_xor(Y[k,j])\n",
    "                if X[i,k]== 3:\n",
    "                    rough[i,j] = rough[i,j]^(lefShift_xor(Y[k,j])^Y[k,j])\n",
    "                if X[i,k]== 1:\n",
    "                    rough[i,j] = rough[i,j]^Y[k,j]\n",
    "                    \n",
    "    Y[:,:]=rough[:,:]\n",
    "                \n",
    "\n",
    "def add_round_key(cipher,expanded_key):\n",
    "    cipher[:,:]= cipher[:,:]^expanded_key[:,:]\n",
    "    \n",
    "def storeOutput(filename,state_array_out):\n",
    "    char_written_length=0\n",
    "    rowwritten=''\n",
    "    with open(filename,'w',encoding='utf-8') as f:\n",
    "        for i in state_array_out:\n",
    "            rowwritten=' '.join(map(str, np.ravel(i)))\n",
    "            char_written_length=char_written_length+len(rowwritten.split())\n",
    "            f.write(rowwritten+' ')\n",
    "    \n",
    "    return char_written_length\n",
    "\n",
    "# only the block of cipher should be passed that need to be ecrypted and not the whole cipher,containing all the blocks of the cipher"
   ]
  },
  {
   "cell_type": "code",
   "execution_count": 19,
   "metadata": {
    "Collapsed": "false"
   },
   "outputs": [],
   "source": [
    "def final_encryption(cipher_input,expanded_key):\n",
    "    round_number= 0\n",
    "    add_round_key(cipher_input,expanded_key[round_number,:,:])\n",
    "                                 # this has been done because 0 round_key should be added before any processing of the input cipher\n",
    "    for round_number in range(1,10):\n",
    "        cipher_input= byte_substitution(cipher_input)\n",
    "        shiftrows(cipher_input)\n",
    "        multiplication_for_matrix(mixcolumn_const,cipher_input)\n",
    "        add_round_key(cipher_input,expanded_key[round_number,:,:])\n",
    "                                 # one more thing that has been done here is that passing only the necessary part of the \n",
    "                                 # expanded_key with no passing of round number is needed then(also round_number variable\n",
    "                                 # should also be used in passing the expanded_key as follows expanded_key[round_number,:,:])\n",
    "\n",
    "                                # above is the process for the round 1 to round 9\n",
    "\n",
    "    cipher_input= byte_substitution(cipher_input)\n",
    "    shiftrows(cipher_input)\n",
    "    round_number= 10\n",
    "    add_round_key(cipher_input,expanded_key[round_number,:,:])\n",
    "\n",
    "                                # above is the process for the round 10 only\n",
    "\n",
    "    return cipher_input\n",
    "\n",
    "# code for creation of state array and performing encryption on all blocks of the cipher created"
   ]
  },
  {
   "cell_type": "code",
   "execution_count": 24,
   "metadata": {
    "Collapsed": "false"
   },
   "outputs": [],
   "source": [
    "def creation_everything(debug_mode=False, debug_list1=None, debug_list2=None):\n",
    "    filename= input(\"enter the name of the file with path that need to be encrypted\")\n",
    "    encryption_key= input(\"enter the name of the key file with path that need to encrypt the file, max length of file is 16 characters\")\n",
    "    OutFileName= input(\"enter the name of the output file with path that is used to store the encrypted output\")\n",
    "    state_array= input_text(filename, debug_mode, debug_list1)\n",
    "    original_key= input_text_key(encryption_key, debug_mode, debug_list2)\n",
    "    expanded_key= keyexpansion(np.copy(original_key))\n",
    "    state_array_out= np.zeros(state_array.shape,dtype=np.uint8)\n",
    "\n",
    "                                        \n",
    "    for index,block in enumerate(state_array):\n",
    "        state_array_out[index]= final_encryption(np.copy(block),expanded_key)\n",
    "    \n",
    "    if not debug_mode:\n",
    "        total_char_wrote= storeOutput(OutFileName,np.copy(state_array_out))\n",
    "        return np.array_equal(decryp.encrypted_text_read(OutFileName),state_array_out), total_char_wrote\n",
    "    else:\n",
    "        hex_conversion=np.vectorize(hex)\n",
    "        print(hex_conversion(state_array_out))\n",
    "        \n",
    "    \n",
    "    # below code should only be used for debugging purpose (and before return) as it tells that whether array written to the output file\n",
    "    # is same as the array read again from the output file\n",
    "    #print(decryp.encrypted_text_read(OutFileName),\"   \\n\",state_array_out)\n",
    "\n",
    "    "
   ]
  },
  {
   "cell_type": "code",
   "execution_count": 25,
   "metadata": {
    "Collapsed": "false"
   },
   "outputs": [
    {
     "name": "stdout",
     "output_type": "stream",
     "text": [
      "[50, 67, 246, 168, 136, 90, 48, 141, 49, 49, 152, 162, 224, 55, 7, 52] \n",
      " [43, 126, 21, 22, 40, 174, 210, 166, 171, 247, 21, 136, 9, 207, 79, 60]\n"
     ]
    }
   ],
   "source": [
    "string=\"32 43 f6 a8 88 5a 30 8d 31 31 98 a2 e0 37 07 34\"\n",
    "list1= list(map(lambda x: int(x,16),string.split()))\n",
    "string= \"2b 7e 15 16 28 ae d2 a6 ab f7 15 88 09 cf 4f 3c\"\n",
    "list2= list(map(lambda x: int(x,16),string.split()))\n",
    "print(list1,\"\\n\",list2)"
   ]
  },
  {
   "cell_type": "code",
   "execution_count": 26,
   "metadata": {
    "Collapsed": "false"
   },
   "outputs": [
    {
     "name": "stdin",
     "output_type": "stream",
     "text": [
      "enter the name of the file with path that need to be encrypted dummy\n",
      "enter the name of the key file with path that need to encrypt the file, max length of file is 16 characters dummy\n",
      "enter the name of the output file with path that is used to store the encrypted output dummy\n"
     ]
    },
    {
     "name": "stdout",
     "output_type": "stream",
     "text": [
      "[[['0x19' '0xf6' '0xc1' '0x96']\n",
      "  ['0x77' '0xf9' '0xe0' '0xfb']\n",
      "  ['0x57' '0x0' '0x6a' '0xcb']\n",
      "  ['0x15' '0x36' '0xff' '0x89']]]\n"
     ]
    }
   ],
   "source": [
    "creation_everything(True,list1,list2)\n",
    "#print(status,\" \",total_char_wrote)\n",
    "\n",
    "    "
   ]
  },
  {
   "cell_type": "code",
   "execution_count": 27,
   "metadata": {
    "Collapsed": "false"
   },
   "outputs": [
    {
     "data": {
      "text/plain": [
       "'0x19'"
      ]
     },
     "execution_count": 27,
     "metadata": {},
     "output_type": "execute_result"
    }
   ],
   "source": [
    "hex(25)"
   ]
  },
  {
   "cell_type": "code",
   "execution_count": null,
   "metadata": {
    "Collapsed": "false"
   },
   "outputs": [],
   "source": []
  }
 ],
 "metadata": {
  "kernelspec": {
   "display_name": "Python 3",
   "language": "python",
   "name": "python3"
  },
  "language_info": {
   "codemirror_mode": {
    "name": "ipython",
    "version": 3
   },
   "file_extension": ".py",
   "mimetype": "text/x-python",
   "name": "python",
   "nbconvert_exporter": "python",
   "pygments_lexer": "ipython3",
   "version": "3.7.5"
  },
  "widgets": {
   "application/vnd.jupyter.widget-state+json": {
    "state": {},
    "version_major": 2,
    "version_minor": 0
   }
  }
 },
 "nbformat": 4,
 "nbformat_minor": 4
}
