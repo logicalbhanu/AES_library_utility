{
 "cells": [
  {
   "cell_type": "code",
   "execution_count": 1,
   "metadata": {
    "Collapsed": "false"
   },
   "outputs": [],
   "source": [
    "import numpy as np\n",
    "import math\n",
    "import Aes_encryption as encryp\n",
    "\n",
    "\n",
    "Nb=Nk=np.uint8(4)                         # here Nb is the number of columns(32 bit words) in the state arrary and Nk is the number of columns\n",
    "                                # (32 bit words) in key array, Nk could be 4,6,8 but for this case it is 4\n",
    "\n",
    "Nr=np.uint8(10)                           # Nr is the number of rounds which is a funciton of Nk and Nb (which is fixed). for this standard Nr = 10\n",
    "inverse_mixcolumn_const=np.array([14,11,13,9,9,14,11,13,13,9,14,11,11,13,9,14],dtype=np.uint8)\n",
    "inverse_mixcolumn_const=np.reshape(inverse_mixcolumn_const,(4,4))\n",
    "\n",
    "\n",
    "# RSbox creation for the Gf(2^8)\n",
    "\n",
    "r_s_box = np.array([0x52, 0x09, 0x6a, 0xd5, 0x30, 0x36, 0xa5, 0x38, 0xbf, 0x40, 0xa3,\n",
    "                    0x9e, 0x81, 0xf3, 0xd7, 0xfb , 0x7c, 0xe3, 0x39, 0x82, 0x9b, 0x2f,\n",
    "                    0xff, 0x87, 0x34, 0x8e, 0x43, 0x44, 0xc4, 0xde, 0xe9, 0xcb , 0x54,\n",
    "                    0x7b, 0x94, 0x32, 0xa6, 0xc2, 0x23, 0x3d, 0xee, 0x4c, 0x95, 0x0b,\n",
    "                    0x42, 0xfa, 0xc3, 0x4e , 0x08, 0x2e, 0xa1, 0x66, 0x28, 0xd9, 0x24,\n",
    "                    0xb2, 0x76, 0x5b, 0xa2, 0x49, 0x6d, 0x8b, 0xd1, 0x25 , 0x72, 0xf8,\n",
    "                    0xf6, 0x64, 0x86, 0x68, 0x98, 0x16, 0xd4, 0xa4, 0x5c, 0xcc, 0x5d,\n",
    "                    0x65, 0xb6, 0x92 , 0x6c, 0x70, 0x48, 0x50, 0xfd, 0xed, 0xb9, 0xda,\n",
    "                    0x5e, 0x15, 0x46, 0x57, 0xa7, 0x8d, 0x9d, 0x84 , 0x90, 0xd8, 0xab,\n",
    "                    0x00, 0x8c, 0xbc, 0xd3, 0x0a, 0xf7, 0xe4, 0x58, 0x05, 0xb8, 0xb3,\n",
    "                    0x45, 0x06 , 0xd0, 0x2c, 0x1e, 0x8f, 0xca, 0x3f, 0x0f, 0x02, 0xc1,\n",
    "                    0xaf, 0xbd, 0x03, 0x01, 0x13, 0x8a, 0x6b , 0x3a, 0x91, 0x11, 0x41,\n",
    "                    0x4f, 0x67, 0xdc, 0xea, 0x97, 0xf2, 0xcf, 0xce, 0xf0, 0xb4, 0xe6,\n",
    "                    0x73 , 0x96, 0xac, 0x74, 0x22, 0xe7, 0xad, 0x35, 0x85, 0xe2, 0xf9,\n",
    "                    0x37, 0xe8, 0x1c, 0x75, 0xdf, 0x6e , 0x47, 0xf1, 0x1a, 0x71, 0x1d,\n",
    "                    0x29, 0xc5, 0x89, 0x6f, 0xb7, 0x62, 0x0e, 0xaa, 0x18, 0xbe, 0x1b ,\n",
    "                    0xfc, 0x56, 0x3e, 0x4b, 0xc6, 0xd2, 0x79, 0x20, 0x9a, 0xdb, 0xc0,\n",
    "                    0xfe, 0x78, 0xcd, 0x5a, 0xf4 , 0x1f, 0xdd, 0xa8, 0x33, 0x88, 0x07,\n",
    "                    0xc7, 0x31, 0xb1, 0x12, 0x10, 0x59, 0x27, 0x80, 0xec, 0x5f , 0x60,\n",
    "                    0x51, 0x7f, 0xa9, 0x19, 0xb5, 0x4a, 0x0d, 0x2d, 0xe5, 0x7a, 0x9f,\n",
    "                    0x93, 0xc9, 0x9c, 0xef , 0xa0, 0xe0, 0x3b, 0x4d, 0xae, 0x2a, 0xf5,\n",
    "                    0xb0, 0xc8, 0xeb, 0xbb, 0x3c, 0x83, 0x53, 0x99, 0x61 , 0x17, 0x2b,\n",
    "                    0x04, 0x7e, 0xba, 0x77, 0xd6, 0x26, 0xe1, 0x69, 0x14, 0x63, 0x55,\n",
    "                    0x21, 0x0c, 0x7d],dtype=np.uint8)\n",
    "                                             # this representation is in hexadecimal format so while printing it, we wil get corresponding integers"
   ]
  },
  {
   "cell_type": "code",
   "execution_count": 2,
   "metadata": {
    "Collapsed": "false"
   },
   "outputs": [],
   "source": [
    "# most of the lambdas and short methods are here\n",
    "\n",
    "character_conversion=np.vectorize(chr)       # this is to conver a numpy uint8 array to its unicode containing numpy array\n",
    "\n",
    "inverse_byte_substitution= np.vectorize(lambda index: r_s_box[index])\n",
    "                                             # a copy of state_array or array for which subtitution is required should be passed in it."
   ]
  },
  {
   "cell_type": "code",
   "execution_count": 3,
   "metadata": {
    "Collapsed": "false"
   },
   "outputs": [],
   "source": [
    "# all the definitions/methods are here\n",
    "\n",
    "def encrypted_text_read(filename,debug_mode=False,debug_list=None):\n",
    "    \n",
    "    if not debug_mode:\n",
    "        state_array= np.loadtxt(filename,dtype=str,delimiter=\" \",encoding=\"utf-8\")[:-1].astype(np.uint8)                  \n",
    "    else:        \n",
    "        state_array= np.array(debug_list, dtype= np.uint8)\n",
    "    \n",
    "                                                                        # store them into utf-8 integer encoding in a variable of 8-bit integer.\n",
    "                                                                        # here is we have no need of padding zeroes at the end because the\n",
    "                                                                        # filtered input from loadtxt line of code is already in multiple of 16.\n",
    "    state_array= np.array([np.reshape(i,(4,4)).transpose() for i in np.split(state_array,len(state_array)/16)])                        \n",
    "    return state_array "
   ]
  },
  {
   "cell_type": "code",
   "execution_count": 4,
   "metadata": {
    "Collapsed": "false"
   },
   "outputs": [],
   "source": [
    "def input_text_key(filename, debug_mode=False, debug_list=None):\n",
    "    \n",
    "    if not debug_mode:\n",
    "        with open(filename,'r',encoding='utf-8') as f:\n",
    "            result=list(map(ord,f.read()))\n",
    "                                                                        # note that 'map' can work only once, so store it result in a varaiable\n",
    "    else:\n",
    "        result= debug_list\n",
    "    state_array= np.array(result, dtype=np.uint8)                  \n",
    "                                                                        # store them into utf-8 integer encoding in a variable of 8-bit integer.\n",
    "\n",
    "    length= len(state_array)\n",
    "    if length >= 16:\n",
    "        state_array= state_array[:16]\n",
    "                                                                # here neglecting the rest of the file txt if more than 16 characters\n",
    "    else:\n",
    "        padding= length%16\n",
    "        state_array= np.append(state_array,np.zeros(16-padding).astype(np.uint8))\n",
    "                                                                # here adding the rest of characters as 0 if have less than 16 \n",
    "                                                                # character in the input text key file.              \n",
    "    \n",
    "    state_array= np.array([np.reshape(state_array,(4,4)).transpose()])                        \n",
    "    return state_array                                             \n",
    "                                                                # reshaping the array as a 4x4 matrix and using list to encapsulate it \n",
    "                                                                # into another np.array to have the structure similar to the \n",
    "                                                                # state_array"
   ]
  },
  {
   "cell_type": "code",
   "execution_count": 5,
   "metadata": {
    "Collapsed": "false"
   },
   "outputs": [],
   "source": [
    "def invshiftrows(element):\n",
    "    temp = np.zeros(element.shape,dtype=np.uint8)\n",
    "    for r in range(4):\n",
    "        for j in range(Nb):\n",
    "            temp[r,(encryp.shift(r,Nb)+j)%Nb]= element[r,j]\n",
    "    element[:,:]=np.copy(temp)\n",
    "                    #  don't panic about assignment to value of 'element' reference as it is working absloutely fine, moreover remember that\n",
    "                    # list are immutable and that they are called by reference in functions and not called by value"
   ]
  },
  {
   "cell_type": "code",
   "execution_count": 12,
   "metadata": {
    "Collapsed": "false"
   },
   "outputs": [],
   "source": [
    "#inverse_multiplication_for_matrix(inverse_mixcolumn_const,cipher_input) is the prototype for this\n",
    "def inverse_multiplication_for_matrix(X,Y):\n",
    "    # iterate through rows of X\n",
    "    rough= np.zeros((len(X),len(Y[0])),dtype= np.uint8)\n",
    "    for i in range(len(X)):\n",
    "        # iterate through columns of Y\n",
    "        for j in range(len(Y[0])):\n",
    "            # iterate through rows of Y\n",
    "            for k in range(len(Y)):\n",
    "                if X[i,k]==14:\n",
    "                    a=b=c=Y[k,j]\n",
    "                    a= encryp.lefShift_xor(a);a= encryp.lefShift_xor(a);a= encryp.lefShift_xor(a)\n",
    "                    b= encryp.lefShift_xor(b);b= encryp.lefShift_xor(b)\n",
    "                    c= encryp.lefShift_xor(c)\n",
    "                    rough[i,j] = rough[i,j]^(a^b^c)\n",
    "                    \n",
    "                if X[i,k]== 9:\n",
    "                    a=Y[k,j]\n",
    "                    a= encryp.lefShift_xor(a);a= encryp.lefShift_xor(a);a= encryp.lefShift_xor(a)\n",
    "                    rough[i,j] = rough[i,j]^(a^Y[k,j])\n",
    "                    \n",
    "                if X[i,k]== 13:\n",
    "                    a=b=Y[k,j]\n",
    "                    a= encryp.lefShift_xor(a);a= encryp.lefShift_xor(a);a= encryp.lefShift_xor(a)\n",
    "                    b= encryp.lefShift_xor(b);b= encryp.lefShift_xor(b)\n",
    "                    rough[i,j] = rough[i,j]^(a^b^Y[k,j])\n",
    "                \n",
    "                if X[i,k]==11:\n",
    "                    a=b=Y[k,j]\n",
    "                    a= encryp.lefShift_xor(a);a= encryp.lefShift_xor(a);a= encryp.lefShift_xor(a)\n",
    "                    b= encryp.lefShift_xor(b)\n",
    "                    rough[i,j] = rough[i,j]^(a^b^Y[k,j])\n",
    "                                        \n",
    "    Y[:,:]=rough[:,:]"
   ]
  },
  {
   "cell_type": "code",
   "execution_count": 7,
   "metadata": {
    "Collapsed": "false"
   },
   "outputs": [],
   "source": [
    "# the final method to store the output of the decrypted array into a passed filename\n",
    "def storeOutput(filename,state_array_out):\n",
    "    char_written_length= 0\n",
    "    with open(filename, 'w', encoding= 'utf-8') as f:\n",
    "        for i in state_array_out:\n",
    "            rowwritten= ''.join(map(chr, np.ravel(i,order='F')))\n",
    "            char_written_length=char_written_length+len(rowwritten)\n",
    "            f.write(rowwritten)\n",
    "    \n",
    "    return char_written_length"
   ]
  },
  {
   "cell_type": "code",
   "execution_count": 8,
   "metadata": {
    "Collapsed": "false"
   },
   "outputs": [],
   "source": [
    "# only the block of cipher should be passed that need to be decrypted and not the whole cipher,containing all the blocks of the cipher\n",
    "\n",
    "def final_decryption(cipher_input,expanded_key):\n",
    "    breakpoint()\n",
    "    round_number= 10\n",
    "    encryp.add_round_key(cipher_input,expanded_key[round_number,:,:])\n",
    "                                 # this has been done because 0 round_key should be added before any processing of the input cipher\n",
    "    for round_number in range(9,0,-1):\n",
    "        invshiftrows(cipher_input)\n",
    "        cipher_input= inverse_byte_substitution(cipher_input)\n",
    "        encryp.add_round_key(cipher_input,expanded_key[round_number,:,:])\n",
    "        inverse_multiplication_for_matrix(inverse_mixcolumn_const,cipher_input)\n",
    "                                 # one more thing that has been done here is that passing only the necessary part of the \n",
    "                                 # expanded_key with no passing of round number is needed then(also round_number variable\n",
    "                                 # should also be used in passing the expanded_key as follows expanded_key[round_number,:,:])\n",
    "\n",
    "                                 # above is the process for the round 9 to round 1\n",
    "\n",
    "    round_number= 0\n",
    "    invshiftrows(cipher_input)\n",
    "    cipher_input= inverse_byte_substitution(cipher_input)\n",
    "    encryp.add_round_key(cipher_input,expanded_key[round_number,:,:])\n",
    "                                # above is the process for the round 10 only\n",
    "\n",
    "    return cipher_input"
   ]
  },
  {
   "cell_type": "code",
   "execution_count": 9,
   "metadata": {
    "Collapsed": "false"
   },
   "outputs": [],
   "source": [
    "# code for creation of state array and performing encryption on all blocks of the cipher created\n",
    "def creation_everything(debug_mode=False, debug_list1=None, debug_list2=None):\n",
    "    filename= input(\"enter the name of the file with path that need to be decrypted\")\n",
    "    encryption_key= input(\"enter the name of the key file with path that need to decrypt the file, max length of file is 16 characters\")\n",
    "    OutFileName= input(\"enter the name of the output file with path that is used to store the decrypted output\")\n",
    "    state_array= encrypted_text_read(filename, debug_mode, debug_list1)\n",
    "    original_key= input_text_key(encryption_key, debug_mode, debug_list2)\n",
    "    expanded_key= encryp.keyexpansion(np.copy(original_key))\n",
    "    state_array_out= np.zeros(state_array.shape,dtype=np.uint8)\n",
    "\n",
    "                                        \n",
    "    for index,block in enumerate(state_array):\n",
    "        state_array_out[index]= final_decryption(np.copy(block),expanded_key)\n",
    "    \n",
    "    if not debug_mode:\n",
    "        total_char_wrote= storeOutput(OutFileName,np.copy(state_array_out))\n",
    "        return np.array_equal(encryp.input_text(OutFileName),state_array_out), total_char_wrote\n",
    "    else:\n",
    "        hex_conversion=np.vectorize(hex)\n",
    "        print(hex_conversion(state_array_out))\n",
    "    "
   ]
  },
  {
   "cell_type": "code",
   "execution_count": 10,
   "metadata": {
    "Collapsed": "false"
   },
   "outputs": [
    {
     "name": "stdout",
     "output_type": "stream",
     "text": [
      "[105, 196, 224, 216, 106, 123, 4, 48, 216, 205, 183, 128, 112, 180, 197, 90] \n",
      " [0, 1, 2, 3, 4, 5, 6, 7, 8, 9, 10, 11, 12, 13, 14, 15]\n"
     ]
    }
   ],
   "source": [
    "string=\"69 c4 e0 d8 6a 7b 04 30 d8 cd b7 80 70 b4 c5 5a\"\n",
    "list1= list(map(lambda x: int(x,16),string.split()))\n",
    "string= \"00 01 02 03 04 05 06 07 08 09 0a 0b 0c 0d 0e 0f\"\n",
    "list2= list(map(lambda x: int(x,16),string.split()))\n",
    "print(list1,\"\\n\",list2)"
   ]
  },
  {
   "cell_type": "code",
   "execution_count": 13,
   "metadata": {
    "Collapsed": "false"
   },
   "outputs": [
    {
     "name": "stdin",
     "output_type": "stream",
     "text": [
      "enter the name of the file with path that need to be decrypted \n",
      "enter the name of the key file with path that need to decrypt the file, max length of file is 16 characters \n",
      "enter the name of the output file with path that is used to store the decrypted output \n"
     ]
    },
    {
     "name": "stdout",
     "output_type": "stream",
     "text": [
      "> <ipython-input-8-0c9c17b38c4f>(5)final_decryption()\n",
      "-> round_number= 10\n"
     ]
    },
    {
     "name": "stdin",
     "output_type": "stream",
     "text": [
      "(Pdb)  n\n"
     ]
    },
    {
     "name": "stdout",
     "output_type": "stream",
     "text": [
      "> <ipython-input-8-0c9c17b38c4f>(6)final_decryption()\n",
      "-> encryp.add_round_key(cipher_input,expanded_key[round_number,:,:])\n"
     ]
    },
    {
     "name": "stdin",
     "output_type": "stream",
     "text": [
      "(Pdb)  \n"
     ]
    },
    {
     "name": "stdout",
     "output_type": "stream",
     "text": [
      "> <ipython-input-8-0c9c17b38c4f>(8)final_decryption()\n",
      "-> for round_number in range(9,0,-1):\n"
     ]
    },
    {
     "name": "stdin",
     "output_type": "stream",
     "text": [
      "(Pdb)  \n"
     ]
    },
    {
     "name": "stdout",
     "output_type": "stream",
     "text": [
      "> <ipython-input-8-0c9c17b38c4f>(9)final_decryption()\n",
      "-> invshiftrows(cipher_input)\n"
     ]
    },
    {
     "name": "stdin",
     "output_type": "stream",
     "text": [
      "(Pdb)  \n"
     ]
    },
    {
     "name": "stdout",
     "output_type": "stream",
     "text": [
      "> <ipython-input-8-0c9c17b38c4f>(10)final_decryption()\n",
      "-> cipher_input= inverse_byte_substitution(cipher_input)\n"
     ]
    },
    {
     "name": "stdin",
     "output_type": "stream",
     "text": [
      "(Pdb)  \n"
     ]
    },
    {
     "name": "stdout",
     "output_type": "stream",
     "text": [
      "> <ipython-input-8-0c9c17b38c4f>(11)final_decryption()\n",
      "-> encryp.add_round_key(cipher_input,expanded_key[round_number,:,:])\n"
     ]
    },
    {
     "name": "stdin",
     "output_type": "stream",
     "text": [
      "(Pdb)  \n"
     ]
    },
    {
     "name": "stdout",
     "output_type": "stream",
     "text": [
      "> <ipython-input-8-0c9c17b38c4f>(12)final_decryption()\n",
      "-> inverse_multiplication_for_matrix(inverse_mixcolumn_const,cipher_input)\n"
     ]
    },
    {
     "name": "stdin",
     "output_type": "stream",
     "text": [
      "(Pdb)  cipher_input\n"
     ]
    },
    {
     "name": "stdout",
     "output_type": "stream",
     "text": [
      "array([[233,   2,  27,  53],\n",
      "       [247,  48, 242,  60],\n",
      "       [ 78,  32, 204,  33],\n",
      "       [236, 246, 242, 199]], dtype=uint8)\n"
     ]
    },
    {
     "name": "stdin",
     "output_type": "stream",
     "text": [
      "(Pdb)  n\n"
     ]
    },
    {
     "name": "stdout",
     "output_type": "stream",
     "text": [
      "> <ipython-input-8-0c9c17b38c4f>(8)final_decryption()\n",
      "-> for round_number in range(9,0,-1):\n"
     ]
    },
    {
     "name": "stdin",
     "output_type": "stream",
     "text": [
      "(Pdb)  cipher_input\n"
     ]
    },
    {
     "name": "stdout",
     "output_type": "stream",
     "text": [
      "array([[ 84, 107, 150, 161],\n",
      "       [217, 160, 187,  17],\n",
      "       [144, 154, 244, 112],\n",
      "       [161, 181,  14,  47]], dtype=uint8)\n"
     ]
    },
    {
     "name": "stdin",
     "output_type": "stream",
     "text": [
      "(Pdb)  c\n"
     ]
    },
    {
     "name": "stdout",
     "output_type": "stream",
     "text": [
      "[[['0x0' '0x44' '0x88' '0xcc']\n",
      "  ['0x11' '0x55' '0x99' '0xdd']\n",
      "  ['0x22' '0x66' '0xaa' '0xee']\n",
      "  ['0x33' '0x77' '0xbb' '0xff']]]\n"
     ]
    }
   ],
   "source": [
    "creation_everything(True,list1,list2)\n"
   ]
  },
  {
   "cell_type": "raw",
   "metadata": {
    "Collapsed": "false"
   },
   "source": [
    "volla! decrypting successfully"
   ]
  }
 ],
 "metadata": {
  "kernelspec": {
   "display_name": "Python 3",
   "language": "python",
   "name": "python3"
  },
  "language_info": {
   "codemirror_mode": {
    "name": "ipython",
    "version": 3
   },
   "file_extension": ".py",
   "mimetype": "text/x-python",
   "name": "python",
   "nbconvert_exporter": "python",
   "pygments_lexer": "ipython3",
   "version": "3.7.5"
  },
  "widgets": {
   "application/vnd.jupyter.widget-state+json": {
    "state": {},
    "version_major": 2,
    "version_minor": 0
   }
  }
 },
 "nbformat": 4,
 "nbformat_minor": 4
}
