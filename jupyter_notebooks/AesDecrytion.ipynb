{
 "cells": [
  {
   "cell_type": "code",
   "execution_count": 2,
   "metadata": {
    "Collapsed": "false"
   },
   "outputs": [],
   "source": [
    "import numpy as np\n",
    "import math\n",
    "import Aes_encryption as encryp\n",
    "\n",
    "\n",
    "# most of the lambdas and short methods are here\n",
    "\n",
    "character_conversion=np.vectorize(chr)   # this is to convert a numpy uint8 array to its unicode containing numpy array\n",
    "\n"
   ]
  },
  {
   "cell_type": "code",
   "execution_count": 3,
   "metadata": {
    "Collapsed": "false"
   },
   "outputs": [],
   "source": [
    "# all the definitions/methods are here\n",
    "def encrypted_text_read(filename):\n",
    "    \n",
    "    state_array= np.loadtxt(filename,dtype=str,delimiter=\" \",encoding=\"utf-8\")[:-1].astype(np.uint8)                  \n",
    "                                                                        # store them into utf-8 integer encoding in a variable of 8-bit integer.\n",
    "                                                                        # here is we have no need of padding zeroes at the end because the\n",
    "                                                                        # filtered input from loadtxt line of code is already in multiple of 16.\n",
    "    state_array= np.array([np.reshape(i,(4,4)) for i in np.split(state_array,len(state_array)/16)])                        \n",
    "    return state_array "
   ]
  },
  {
   "cell_type": "code",
   "execution_count": null,
   "metadata": {
    "Collapsed": "false"
   },
   "outputs": [],
   "source": []
  }
 ],
 "metadata": {
  "kernelspec": {
   "display_name": "Python 3",
   "language": "python",
   "name": "python3"
  },
  "language_info": {
   "codemirror_mode": {
    "name": "ipython",
    "version": 3
   },
   "file_extension": ".py",
   "mimetype": "text/x-python",
   "name": "python",
   "nbconvert_exporter": "python",
   "pygments_lexer": "ipython3",
   "version": "3.7.5"
  },
  "widgets": {
   "application/vnd.jupyter.widget-state+json": {
    "state": {},
    "version_major": 2,
    "version_minor": 0
   }
  }
 },
 "nbformat": 4,
 "nbformat_minor": 4
}
